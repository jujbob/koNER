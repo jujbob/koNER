{
 "cells": [
  {
   "cell_type": "code",
   "execution_count": 3,
   "metadata": {},
   "outputs": [
    {
     "name": "stdout",
     "output_type": "stream",
     "text": [
      "## text = [횡설수설/권순활]北 ‘외화벌이’ 뜯어먹기\n"
     ]
    },
    {
     "ename": "IndexError",
     "evalue": "list index out of range",
     "output_type": "error",
     "traceback": [
      "\u001b[0;31m---------------------------------------------------------------------------\u001b[0m",
      "\u001b[0;31mIndexError\u001b[0m                                Traceback (most recent call last)",
      "\u001b[0;32m/tmp/ipykernel_3072056/4004490916.py\u001b[0m in \u001b[0;36m<module>\u001b[0;34m\u001b[0m\n\u001b[1;32m     31\u001b[0m                 \u001b[0msplited\u001b[0m \u001b[0;34m=\u001b[0m \u001b[0maline\u001b[0m\u001b[0;34m.\u001b[0m\u001b[0msplit\u001b[0m\u001b[0;34m(\u001b[0m\u001b[0;34m'\\t'\u001b[0m\u001b[0;34m)\u001b[0m\u001b[0;34m\u001b[0m\u001b[0;34m\u001b[0m\u001b[0m\n\u001b[1;32m     32\u001b[0m                 \u001b[0mprint\u001b[0m\u001b[0;34m(\u001b[0m\u001b[0maline\u001b[0m\u001b[0;34m)\u001b[0m\u001b[0;34m\u001b[0m\u001b[0;34m\u001b[0m\u001b[0m\n\u001b[0;32m---> 33\u001b[0;31m                 \u001b[0mnew_line\u001b[0m \u001b[0;34m=\u001b[0m \u001b[0mstr\u001b[0m\u001b[0;34m(\u001b[0m\u001b[0mt_num\u001b[0m\u001b[0;34m)\u001b[0m \u001b[0;34m+\u001b[0m \u001b[0;34m\"\\t\"\u001b[0m \u001b[0;34m+\u001b[0m \u001b[0msplited\u001b[0m\u001b[0;34m[\u001b[0m\u001b[0;36m0\u001b[0m\u001b[0;34m]\u001b[0m \u001b[0;34m+\u001b[0m \u001b[0;34m\"\\t\"\u001b[0m \u001b[0;34m+\u001b[0m \u001b[0msplited\u001b[0m\u001b[0;34m[\u001b[0m\u001b[0;36m0\u001b[0m\u001b[0;34m]\u001b[0m \u001b[0;34m+\u001b[0m \u001b[0;34m\"\\t\"\u001b[0m \u001b[0;34m+\u001b[0m \u001b[0;34m\"_\"\u001b[0m \u001b[0;34m+\u001b[0m \u001b[0;34m\"\\t\"\u001b[0m \u001b[0;34m+\u001b[0m \u001b[0;34m\"_\"\u001b[0m \u001b[0;34m+\u001b[0m \u001b[0;34m\"\\t\"\u001b[0m \u001b[0;34m+\u001b[0m \u001b[0msplited\u001b[0m\u001b[0;34m[\u001b[0m\u001b[0;36m1\u001b[0m\u001b[0;34m]\u001b[0m \u001b[0;34m+\u001b[0m \u001b[0;34m\"\\t\"\u001b[0m \u001b[0;34m+\u001b[0m \u001b[0;34m\"_\"\u001b[0m \u001b[0;34m+\u001b[0m \u001b[0;34m\"\\t\"\u001b[0m \u001b[0;34m+\u001b[0m \u001b[0;34m\"_\"\u001b[0m \u001b[0;34m+\u001b[0m \u001b[0;34m\"\\t\"\u001b[0m \u001b[0;34m+\u001b[0m \u001b[0;34m\"_\"\u001b[0m \u001b[0;34m+\u001b[0m \u001b[0;34m\"\\t\"\u001b[0m \u001b[0;34m+\u001b[0m \u001b[0;34m\"_\"\u001b[0m \u001b[0;34m+\u001b[0m \u001b[0;34m\"\\n\"\u001b[0m\u001b[0;34m\u001b[0m\u001b[0;34m\u001b[0m\u001b[0m\n\u001b[0m\u001b[1;32m     34\u001b[0m \u001b[0;34m\u001b[0m\u001b[0m\n\u001b[1;32m     35\u001b[0m             \u001b[0mw\u001b[0m\u001b[0;34m.\u001b[0m\u001b[0mwrite\u001b[0m\u001b[0;34m(\u001b[0m\u001b[0mnew_line\u001b[0m\u001b[0;34m)\u001b[0m\u001b[0;34m\u001b[0m\u001b[0;34m\u001b[0m\u001b[0m\n",
      "\u001b[0;31mIndexError\u001b[0m: list index out of range"
     ]
    }
   ],
   "source": [
    "\n",
    "TRAIN_FILE = \"./data/NXNE2102008030.corrected\"\n",
    "#TRAIN_FILE = \"./data/NXNE2102008030.corrected_added\" #MODU19\n",
    "ADDED_FILE = \"./data/NXNE2102008030.corrected_conll\"\n",
    "s_flag = False\n",
    "t_num = 0\n",
    "new_line = \"\"\n",
    "\n",
    "with open(TRAIN_FILE, \"r\", encoding=\"UTF-8\") as f:\n",
    "    with open(ADDED_FILE, \"w\", encoding=\"UTF-8\") as w:\n",
    "        while True:\n",
    "            aline = f.readline()\n",
    "            if not aline: break\n",
    "            print(aline)\n",
    "            if s_flag is False and aline.startswith(\"#\"):\n",
    "                # start with a new sentence\n",
    "                s_flag = True\n",
    "                new_line = aline\n",
    "            elif s_flag is True and aline == \"\\n\":\n",
    "                # End of the new sentence\n",
    "                t_num = 0\n",
    "                s_flag = False\n",
    "                new_line = aline\n",
    "\n",
    "            elif s_flag is True and aline.replace(\"\\n\", \"\").split(\"\\t\")[0] == \" \":\n",
    "                # End of the new sentence\n",
    "                continue\n",
    "\n",
    "            elif s_flag is True and aline != \"\\n\":\n",
    "                t_num = t_num + 1\n",
    "                aline = aline.replace(\"\\n\", \"\")\n",
    "                splited = aline.split('\\t')\n",
    "                print(aline)\n",
    "                new_line = str(t_num) + \"\\t\" + splited[0] + \"\\t\" + splited[0] + \"\\t\" + \"_\" + \"\\t\" + \"_\" + \"\\t\" + splited[1] + \"\\t\" + \"_\" + \"\\t\" + \"_\" + \"\\t\" + \"_\" + \"\\t\" + \"_\" + \"\\n\"\n",
    "\n",
    "            w.write(new_line)\n",
    "            new_line = \"\"\n",
    "\n",
    "    w.close()\n",
    "f.close()\n",
    "\n"
   ]
  },
  {
   "cell_type": "code",
   "execution_count": null,
   "metadata": {},
   "outputs": [],
   "source": [
    "sentence = \"Fruit flies like a banana\"\n",
    "tokens = sentence.split(sep=\" \")\n",
    "\n",
    "word_to_index = {word : index for index, word in enumerate(tokens)}\n",
    "print('word dictionary :',word_to_index)\n",
    "\n",
    "def one_hot_encoding(word, word_to_index):\n",
    "  one_hot_vector = [0]*(len(word_to_index))\n",
    "  index = word_to_index[word]\n",
    "  one_hot_vector[index] = 1\n",
    "  return one_hot_vector"
   ]
  }
 ],
 "metadata": {
  "kernelspec": {
   "display_name": "kbvqa",
   "language": "python",
   "name": "kbvqa"
  },
  "orig_nbformat": 4,
  "vscode": {
   "interpreter": {
    "hash": "f92b6f904071e3223de4cbe10e9c316f933c81f6967af53b0fc43471642e13f7"
   }
  }
 },
 "nbformat": 4,
 "nbformat_minor": 2
}
