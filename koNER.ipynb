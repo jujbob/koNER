{
 "cells": [
  {
   "cell_type": "code",
   "execution_count": 1,
   "metadata": {},
   "outputs": [],
   "source": [
    "import os\n",
    "os.environ[\"CUDA_DEVICE_ORDER\"]=\"PCI_BUS_ID\"   # see issue #152\n",
    "os.environ[\"CUDA_VISIBLE_DEVICES\"]=\"0\""
   ]
  },
  {
   "cell_type": "code",
   "execution_count": 2,
   "metadata": {},
   "outputs": [],
   "source": [
    "import torch\n",
    "import torch.nn as nn\n",
    "import transformers\n",
    "from transformers import AdamW, get_linear_schedule_with_warmup, get_constant_schedule, XLMRobertaTokenizer, XLMRobertaModel, XLMRobertaConfig\n",
    "import pandas as pd\n",
    "import numpy as np\n",
    "from tqdm import tqdm\n",
    "import os\n",
    "import re\n",
    "from collections import defaultdict\n",
    "from collections import Counter\n",
    "from sklearn.model_selection import KFold"
   ]
  },
  {
   "cell_type": "code",
   "execution_count": 3,
   "metadata": {},
   "outputs": [],
   "source": [
    "MAX_LEN = 500\n",
    "TRAIN_BATCH_SIZE = 12\n",
    "VALID_BATCH_SIZE = 8\n",
    "EPOCHS = 100\n",
    "BERT_MODEL = 'xlm-roberta-base'\n",
    "TOKENIZER = transformers.XLMRobertaTokenizer.from_pretrained(BERT_MODEL)\n",
    "#TRAIN_FILE = \"./data/train_data_annotated_BIOES_v3.txt\"\n",
    "#VALID_FILE = \"./data/e\"\n",
    "TRAIN_FILE = \"./data/xa\"\n",
    "VALID_FILE = \"./data/c\"\n",
    "#TRAIN_FILE = \"/home/ktlim/code/TTtagger/corpus/ud-treebanks-v2.3/UD_English-EWT/en_ewt-ud-train.conllu\"\n",
    "#VALID_FILE = \"/home/ktlim/code/TTtagger/corpus/ud-treebanks-v2.3/UD_English-EWT/en_ewt-ud-test.conllu\""
   ]
  },
  {
   "cell_type": "code",
   "execution_count": 4,
   "metadata": {},
   "outputs": [],
   "source": [
    "DEVICE=0\n",
    "ID, FORM, LEMMA, UPOS, XPOS, FEATS, HEAD, DEPREL, DEPS, MISC = range(10)"
   ]
  },
  {
   "cell_type": "code",
   "execution_count": 5,
   "metadata": {},
   "outputs": [],
   "source": [
    "def normalize(word):\n",
    "    return re.sub(r\"\\d\", \"0\", word).lower()\n",
    "\n",
    "\n",
    "def strong_normalize(word):\n",
    "    w = ftfy.fix_text(word.lower())\n",
    "    w = re.sub(r\".+@.+\", \"*EMAIL*\", w)\n",
    "    w = re.sub(r\"@\\w+\", \"*AT*\", w)\n",
    "    w = re.sub(r\"(https?://|www\\.).*\", \"*url*\", w)\n",
    "    w = re.sub(r\"([^\\d])\\1{2,}\", r\"\\1\\1\", w)\n",
    "    w = re.sub(r\"([^\\d][^\\d])\\1{2,}\", r\"\\1\\1\", w)\n",
    "    w = re.sub(r\"``\", '\"', w)\n",
    "    w = re.sub(r\"''\", '\"', w)\n",
    "    w = re.sub(r\"\\d\", \"0\", w)\n",
    "    return w\n",
    "\n",
    "\n",
    "def buildVocab(graphs, cutoff=1):\n",
    "    wordsCount = Counter()\n",
    "    charsCount = Counter()\n",
    "    uposCount = Counter()\n",
    "    xposCount = Counter()\n",
    "    relCount = Counter()\n",
    "    featCount = Counter()\n",
    "    langCount = Counter()\n",
    "\n",
    "    for graph in graphs:\n",
    "        wordsCount.update([node.norm for node in graph.nodes[1:]])\n",
    "        for node in graph.nodes[1:]:\n",
    "            charsCount.update(list(node.word))\n",
    "            featCount.update(node.feats_set)\n",
    "            #  charsCount.update(list(node.norm))\n",
    "        uposCount.update([node.upos for node in graph.nodes[1:]])\n",
    "        xposCount.update([node.xupos for node in graph.nodes[1:]])\n",
    "        relCount.update([rel for rel in graph.rels[1:]])\n",
    "        langCount.update([node.lang for node in graph.nodes[1:]])\n",
    "        \n",
    "\n",
    "    wordsCount = Counter({w: i for w, i in wordsCount.items() if i >= cutoff})\n",
    "    print(\"Vocab containing {} words\".format(len(wordsCount)))\n",
    "    print(\"Charset containing {} chars\".format(len(charsCount)))\n",
    "    print(\"UPOS containing {} tags\".format(len(uposCount)), uposCount)\n",
    "    #print(\"XPOS containing {} tags\".format(len(xposCount)), xposCount)\n",
    "    print(\"Rels containing {} tags\".format(len(relCount)), relCount)\n",
    "    print(\"Feats containing {} tags\".format(len(featCount)), featCount)\n",
    "    print(\"lang containing {} tags\".format(len(langCount)), langCount)\n",
    "\n",
    "    ret = {\n",
    "        \"vocab\": list(wordsCount.keys()),\n",
    "        \"wordfreq\": wordsCount,\n",
    "        \"charset\": list(charsCount.keys()),\n",
    "        \"charfreq\": charsCount,\n",
    "        \"upos\": list(uposCount.keys()),\n",
    "        \"xpos\": list(xposCount.keys()),\n",
    "        \"rels\": list(relCount.keys()),\n",
    "        \"feats\": list(featCount.keys()),\n",
    "        \"lang\": list(langCount.keys()),\n",
    "    }\n",
    "\n",
    "    return ret\n",
    "\n",
    "def shuffled_stream(data):\n",
    "    len_data = len(data)\n",
    "    while True:\n",
    "        for d in random.sample(data, len_data):\n",
    "            yield d\n",
    "\n",
    "def shuffled_balanced_stream(data):\n",
    "    for ds in zip(*[shuffled_stream(s) for s in data]):\n",
    "        ds = list(ds)\n",
    "        random.shuffle(ds)\n",
    "        for d in ds:\n",
    "            yield d\n",
    "            \n",
    "            \n",
    "def parse_dict(features):\n",
    "    if features is None or features == \"_\":\n",
    "        return {}\n",
    "\n",
    "    ret = {}\n",
    "    lst = features.split(\"|\")\n",
    "    for l in lst:\n",
    "        k, v = l.split(\"=\")\n",
    "        ret[k] = v\n",
    "    return ret\n",
    "\n",
    "\n",
    "def parse_features(features):\n",
    "    if features is None or features == \"_\":\n",
    "        return set()\n",
    "\n",
    "    return features.lower().split(\"|\")\n",
    "\n",
    "\n",
    "class Word:\n",
    "\n",
    "    def __init__(self, word, upos, lemma=None, xpos=None, feats=None, misc=None, lang=None):\n",
    "        self.word = word\n",
    "        self.norm = normalize(word) #strong_normalize(word)\n",
    "        self.lemma = lemma if lemma else \"_\"\n",
    "        self.upos = upos\n",
    "        self.xpos = xpos if xpos else \"_\"\n",
    "        self.xupos = self.upos + \"|\" + self.xpos\n",
    "        self.feats = feats if feats else \"_\"\n",
    "        self.feats_set = parse_features(self.feats)\n",
    "        self.misc = misc if misc else \"_\"\n",
    "        self.lang = lang if lang else \"_\"\n",
    "\n",
    "    def cleaned(self):\n",
    "        return Word(self.word, \"_\")\n",
    "\n",
    "    def clone(self):\n",
    "        return Word(self.word, self.upos, self.lemma, self.xpos, self.feats, self.misc)\n",
    "\n",
    "    def __repr__(self):\n",
    "        return \"{}_{}\".format(self.word, self.upos)\n",
    "\n",
    "\n",
    "class DependencyGraph(object):\n",
    "\n",
    "    def __init__(self, words, tokens=None):\n",
    "        #  Token is a tuple (start, end, form)\n",
    "        if tokens is None:\n",
    "            tokens = []\n",
    "        self.nodes = np.array([Word(\"*root*\", \"*root*\")] + list(words))\n",
    "        self.tokens = tokens\n",
    "        self.heads = np.array([-1] * len(self.nodes))\n",
    "        self.rels = np.array([\"_\"] * len(self.nodes), dtype=object)\n",
    "\n",
    "    def __copy__(self):\n",
    "        cls = self.__class__\n",
    "        result = cls.__new__(cls)\n",
    "        result.nodes = self.nodes\n",
    "        result.tokens = self.tokens\n",
    "        result.heads = self.heads.copy()\n",
    "        result.rels = self.rels.copy()\n",
    "        return result\n",
    "\n",
    "    def cleaned(self, node_level=True):\n",
    "        if node_level:\n",
    "            return DependencyGraph([node.cleaned() for node in self.nodes[1:]], self.tokens)\n",
    "        else:\n",
    "            return DependencyGraph([node.clone() for node in self.nodes[1:]], self.tokens)\n",
    "\n",
    "    def attach(self, head, tail, rel):\n",
    "        self.heads[tail] = head\n",
    "        self.rels[tail] = rel\n",
    "\n",
    "    def __repr__(self):\n",
    "        return \"\\n\".join([\"{} ->({})  {} ({})\".format(str(self.nodes[i]), self.rels[i], self.heads[i], self.nodes[self.heads[i]]) for i in range(len(self.nodes))])\n",
    "\n",
    "\n",
    "def read_conll(filename, lang_code=None):\n",
    "    \n",
    "    print(\"read_conll with\", lang_code)\n",
    "    def get_word(columns):\n",
    "        return Word(columns[FORM], columns[UPOS], lemma=columns[LEMMA], xpos=columns[XPOS], feats=columns[FEATS], misc=columns[MISC], lang=lang_code)\n",
    "\n",
    "    def get_graph(graphs, words, tokens, edges):\n",
    "        graph = DependencyGraph(words, tokens)\n",
    "        for (h, d, r) in edges:\n",
    "            graph.attach(h, d, r)\n",
    "        graphs.append(graph)\n",
    "\n",
    "    file = open(filename, \"r\", encoding=\"UTF-8\")\n",
    "\n",
    "    graphs = []\n",
    "    words = []\n",
    "    tokens = []\n",
    "    edges = []\n",
    "\n",
    "    num_sent = 0\n",
    "    sentence_start = False\n",
    "    while True:\n",
    "        line = file.readline()\n",
    "        if not line:\n",
    "            if len(words) > 0:\n",
    "                get_graph(graphs, words, tokens, edges)\n",
    "                words, tokens, edges = [], [], []\n",
    "            break\n",
    "        line = line.rstrip(\"\\r\\n\")\n",
    "\n",
    "        # Handle sentence start boundaries\n",
    "        if not sentence_start:\n",
    "            # Skip comments\n",
    "            if line.startswith(\"#\"):\n",
    "                continue\n",
    "            # Start a new sentence\n",
    "            sentence_start = True\n",
    "        if not line:\n",
    "            sentence_start = False\n",
    "            if len(words) > 0:\n",
    "                if (len(words) < 250):\n",
    "                    get_graph(graphs, words, tokens, edges)\n",
    "                words, tokens, edges = [], [], []\n",
    "                num_sent += 1\n",
    "            continue\n",
    "\n",
    "        # Read next token/word\n",
    "        columns = line.split(\"\\t\")\n",
    "\n",
    "        # Skip empty nodes\n",
    "        if \".\" in columns[ID]:\n",
    "            continue\n",
    "\n",
    "        # Handle multi-word tokens to save word(s)\n",
    "        if \"-\" in columns[ID]:\n",
    "            start, end = map(int, columns[ID].split(\"-\"))\n",
    "            tokens.append((start, end + 1, columns[FORM]))\n",
    "\n",
    "            for _ in range(start, end + 1):\n",
    "                word_line = file.readline().rstrip(\"\\r\\n\")\n",
    "                word_columns = word_line.split(\"\\t\")\n",
    "                words.append(get_word(word_columns))\n",
    "                if word_columns[HEAD].isdigit():\n",
    "                    head = int(word_columns[HEAD])\n",
    "                else:\n",
    "                    head = -1\n",
    "                edges.append((head, int(word_columns[ID]), word_columns[DEPREL].split(\":\")[0]))\n",
    "        # Basic tokens/words\n",
    "        else:\n",
    "            words.append(get_word(columns))\n",
    "            if columns[HEAD].isdigit():\n",
    "                head = int(columns[HEAD])\n",
    "            else:\n",
    "                head = -1\n",
    "            edges.append((head, int(columns[ID]), columns[DEPREL].split(\":\")[0]))\n",
    "\n",
    "    file.close()\n",
    "\n",
    "    return graphs"
   ]
  },
  {
   "cell_type": "code",
   "execution_count": 6,
   "metadata": {},
   "outputs": [],
   "source": [
    "# 2. Data Loader\n",
    "class CoNLLDataset:\n",
    "    def __init__(self, graphs, tokenizer, max_len, fullvocab=None):\n",
    "        self.conll_graphs = graphs\n",
    "        self.tokenizer = tokenizer\n",
    "        self.max_len = max_len\n",
    "        \n",
    "        self._fullvocab = fullvocab if fullvocab else buildVocab(self.conll_graphs, cutoff=1)\n",
    "            \n",
    "        self._upos = {p: i for i, p in enumerate(self._fullvocab[\"upos\"])}\n",
    "        self._iupos = self._fullvocab[\"upos\"]\n",
    "        self._xpos = {p: i for i, p in enumerate(self._fullvocab[\"xpos\"])}\n",
    "        self._ixpos = self._fullvocab[\"xpos\"]\n",
    "        self._vocab = {w: i+3 for i, w in enumerate(self._fullvocab[\"vocab\"])}\n",
    "        self._wordfreq = self._fullvocab[\"wordfreq\"]\n",
    "        self._charset = {c: i+3 for i, c in enumerate(self._fullvocab[\"charset\"])}\n",
    "        self._charfreq = self._fullvocab[\"charfreq\"]\n",
    "        self._rels = {r: i for i, r in enumerate(self._fullvocab[\"rels\"])}\n",
    "        self._irels = self._fullvocab[\"rels\"]\n",
    "        self._feats = {f: i for i, f in enumerate(self._fullvocab[\"feats\"])}\n",
    "        self._langs = {r: i+2 for i, r in enumerate(self._fullvocab[\"lang\"])}\n",
    "        self._ilangs = self._fullvocab[\"lang\"]\n",
    "        \n",
    "        #self._posRels = {r: i for i, r in enumerate(self._fullvocab[\"posRel\"])}\n",
    "        #self._iposRels = self._fullvocab[\"posRel\"]\n",
    "        \n",
    "        self._vocab['*pad*'] = 0\n",
    "        self._charset['*pad*'] = 0\n",
    "        self._langs['*pad*'] = 0\n",
    "        \n",
    "        self._vocab['*root*'] = 1\n",
    "        self._charset['*whitespace*'] = 1\n",
    "        \n",
    "        self._vocab['*unknown*'] = 2\n",
    "        self._charset['*unknown*'] = 2\n",
    "        \n",
    "        \n",
    "    \n",
    "    def __len__(self):\n",
    "        return len(self.conll_graphs)\n",
    "        \n",
    "        \n",
    "    def __getitem__(self, item):\n",
    "        \n",
    "        graph = self.conll_graphs[item]\n",
    "        word_list = [node.word for node in graph.nodes]\n",
    "        upos_list = [node.upos for node in graph.nodes]\n",
    "        feat_list = [node.feats for node in graph.nodes]\n",
    "        \n",
    "        encoded = self.tokenizer.encode_plus(' '.join(word_list[1:]),\n",
    "                                             None,\n",
    "                                             add_special_tokens=True,\n",
    "                                             max_length = self.max_len,\n",
    "                                             truncation=True,\n",
    "                                             pad_to_max_length = True)\n",
    "        \n",
    "        ids, mask = encoded['input_ids'], encoded['attention_mask']\n",
    "        \n",
    "        bpe_head_mask = [0]; upos_ids = [-1]; feat_ids = [-1] # --> CLS token\n",
    "        \n",
    "        for word, upos, feat in zip(word_list[1:], upos_list[1:], feat_list[1:]):\n",
    "            bpe_len = len(self.tokenizer.tokenize(word))\n",
    "            head_mask = [1] + [0]*(bpe_len-1)\n",
    "            bpe_head_mask.extend(head_mask)\n",
    "            upos_mask = [self._upos.get(upos)] + [-1]*(bpe_len-1)\n",
    "            upos_ids.extend(upos_mask)\n",
    "            feat_mask = [self._feats.get(feat.lower(), 2)] + [-1]*(bpe_len-1)\n",
    "            feat_ids.extend(feat_mask)\n",
    "            \n",
    "            #print(\"head_mask\", head_mask)\n",
    "        \n",
    "        bpe_head_mask.append(0); upos_ids.append(-1); feat_ids.append(-1) # --> END token\n",
    "        bpe_head_mask.extend([0] * (self.max_len - len(bpe_head_mask))) ## --> padding by max_len\n",
    "        upos_ids.extend([-1] * (self.max_len - len(upos_ids))) ## --> padding by max_len\n",
    "        feat_ids.extend([-1] * (self.max_len - len(feat_ids))) ## --> padding by max_len\n",
    "        \n",
    "        return {\n",
    "                'ids': torch.tensor(ids, dtype=torch.long),\n",
    "                'mask': torch.tensor(mask, dtype=torch.long),\n",
    "                'bpe_head_mask': torch.tensor(bpe_head_mask, dtype=torch.long),\n",
    "                'upos_ids': torch.tensor(upos_ids, dtype=torch.long),\n",
    "                'feat_ids': torch.tensor(feat_ids, dtype=torch.long)\n",
    "               }\n",
    "    \n",
    "    \n",
    "\n",
    "  "
   ]
  },
  {
   "cell_type": "code",
   "execution_count": 7,
   "metadata": {},
   "outputs": [],
   "source": [
    "def f1_score(total_pred, total_targ, noNER_idx):\n",
    "    \n",
    "    p = 0 # (retrived SB and real SB) / retrived SB  # The percentage of (the number of correct predictions) / (the number of predction that system predicts as B-SENT)\n",
    "    r = 0\n",
    "    f1= 0\n",
    "    \n",
    "    np_total_pred = np.array(total_pred)\n",
    "    np_total_tag = np.array(total_targ)\n",
    "    \n",
    "    #Get noPad\n",
    "    incidence_nopad = np.where(np_total_tag != -1) ## eliminate paddings\n",
    "    np_total_pred_nopad = np_total_pred[incidence_nopad]\n",
    "    np_total_tag_nopad = np_total_tag[incidence_nopad]\n",
    "    \n",
    "    \n",
    "    #precision\n",
    "    incidence_nopad_sb = np.where(np_total_pred_nopad != noNER_idx)\n",
    "    np_total_pred_nopad_sb = np_total_pred_nopad[incidence_nopad_sb]\n",
    "    np_total_tag_nopad_sb = np_total_tag_nopad[incidence_nopad_sb]\n",
    "    \n",
    "    count_active_tokens_p = len(np_total_pred_nopad_sb)\n",
    "    count_correct_p = np.count_nonzero((np_total_pred_nopad_sb==np_total_tag_nopad_sb) == True)\n",
    "    \n",
    "    '''\n",
    "    np_total_pred_incid = np_total_pred[incidence_p]\n",
    "    print(\"np_total_pred_incid\", np_total_pred_incid)\n",
    "    ids_sb_pred_p = np.where(np_total_pred_incid==1)\n",
    "    np_total_pred_p = np_total_pred_incid[ids_sb_pred_p]\n",
    "    np_total_tag_p = np_total_tag[ids_sb_pred_p]\n",
    "    \n",
    "    print(\"ids_sb_pred_p\", ids_sb_pred_p)\n",
    "    print(\"np_total_pred_p\", np_total_pred_p)\n",
    "    print(\"np_total_tag_p\", np_total_tag_p)\n",
    "    \n",
    "    count_active_tokens_p = len(np_total_pred_p)\n",
    "    count_correct_p = np.count_nonzero((np_total_pred_p==np_total_tag_p) == True)\n",
    "    '''\n",
    "    \n",
    "    print(\"count_correct_p\", count_correct_p)\n",
    "    print(\"count_active_tokens_p\", count_active_tokens_p)\n",
    "    \n",
    "    p = count_correct_p/count_active_tokens_p\n",
    "    print(\"precision:\", p)\n",
    "\n",
    "    \n",
    "    #recall\n",
    "    ids_sb_pred_r = np.where(np_total_tag_nopad != noNER_idx)\n",
    "    np_total_pred_r = np_total_pred_nopad[ids_sb_pred_r]\n",
    "    np_total_tag_r = np_total_tag_nopad[ids_sb_pred_r]\n",
    "    \n",
    "    #print(\"ids_sb_pred_r\", ids_sb_pred_r)\n",
    "    #print(\"np_total_pred_r\", np_total_pred_r)\n",
    "    #print(\"np_total_tag_r\", np_total_tag_r)\n",
    "    \n",
    "    count_active_tokens_r = len(np_total_pred_r)\n",
    "    count_correct_r = np.count_nonzero((np_total_pred_r==np_total_tag_r) == True)\n",
    "    \n",
    "    print(\"count_active_tokens_r\", count_active_tokens_r)\n",
    "    print(\"count_correct_r\", count_correct_r)\n",
    "    \n",
    "    r = count_correct_r/count_active_tokens_r\n",
    "    print(\"recall:\", r)\n",
    "    \n",
    "    \n",
    "    #F1\n",
    "    #f1 = 2*(p*r) / (p+r)\n",
    "    print(\"F1:\", f1)\n",
    "    \n",
    "    #count_active_tokens_recall = np.count_nonzero(np.array(total_targ) > -1)\n",
    "    #print(\"count_active_tokens_recall\", count_active_tokens_recall)\n",
    "    #count_active_tokens_precision = np.count_nonzero(np.array(total_targ) > -1)\n",
    "    \n",
    "    #count_correct = np.count_nonzero((np.array(total_pred)==np.array(total_targ)) == True)\n",
    "    #print(\"count_correct\",count_correct)\n",
    "    #print(\"ACCURACY:\", count_correct/count_active_tokens)\n",
    "    "
   ]
  },
  {
   "cell_type": "code",
   "execution_count": 8,
   "metadata": {},
   "outputs": [],
   "source": [
    "class XLMRobertaEncoder(nn.Module):\n",
    "    def __init__(self, num_upos, num_feat):\n",
    "        super(XLMRobertaEncoder, self).__init__()\n",
    "        self.xlm_roberta = transformers.XLMRobertaModel.from_pretrained('xlm-roberta-base')\n",
    "        self.dropout = nn.Dropout(0.33)\n",
    "        self.linear = nn.Linear(768, num_upos)\n",
    "        \n",
    "        self.f_dropout = nn.Dropout(0.33)\n",
    "        self.f_linear = nn.Linear(768, num_feat)\n",
    "            \n",
    "    def forward(self, ids, mask):\n",
    "        o1, o2 = self.xlm_roberta(ids, mask)\n",
    "        \n",
    "        #apool = torch.mean(o1, 1)\n",
    "        #mpool, _ = torch.max(o1, 1)\n",
    "        #cat = torch.cat((apool, mpool), 1)\n",
    "        #bo = self.dropout(cat)\n",
    "        p_logits = self.linear(o1)        \n",
    "        f_logits = self.f_linear(o1)   \n",
    "        \n",
    "        return p_logits, f_logits\n",
    "        \n"
   ]
  },
  {
   "cell_type": "code",
   "execution_count": 9,
   "metadata": {},
   "outputs": [],
   "source": [
    "#train_graphs = read_conll(TRAIN_FILE, 'ko')\n",
    "#cv = KFold(n_splits=5, random_state=1, shuffle=False)\n",
    "#for t,v in cv.split(train_graphs):\n",
    "#    train_graph=train_graphs[t]         # Train Set\n",
    "#    valid_graph=train_graphs[v]         # Validation Set"
   ]
  },
  {
   "cell_type": "code",
   "execution_count": 10,
   "metadata": {},
   "outputs": [
    {
     "name": "stdout",
     "output_type": "stream",
     "text": [
      "read_conll with ko\n",
      "Vocab containing 4561 words\n",
      "Charset containing 1027 chars\n",
      "UPOS containing 15 tags Counter({'NOUN': 5257, 'PRT': 3801, 'ADP': 2810, 'VERB': 1691, 'PUNCT': 1550, 'PROPN': 645, 'NUM': 557, 'X': 281, 'DET': 220, 'ADJ': 206, 'PRON': 117, 'SYM': 105, 'ADV': 71, 'INTJ': 8, 'CCONJ': 2})\n",
      "Rels containing 2 tags Counter({'rel': 16630, 'root': 691})\n",
      "Feats containing 49 tags Counter({'o': 13571, 'cvl_s': 385, 'num_b': 330, 'num_e': 330, 'per_s': 239, 'org_s': 172, 'num_i': 161, 'org_i': 151, 'dat_b': 130, 'dat_e': 129, 'loc_s': 121, 'org_e': 116, 'org_b': 114, 'dat_i': 106, 'trm_i': 104, 'cvl_b': 88, 'cvl_e': 88, 'trm_s': 80, 'trm_e': 79, 'trm_b': 78, 'per_b': 78, 'per_e': 77, 'num_s': 62, 'per_i': 61, 'cvl_i': 52, 'dat_s': 50, 'anm_s': 43, 'evt_b': 40, 'evt_e': 40, 'evt_s': 27, 'evt_i': 26, 'loc_b': 20, 'afw_s': 20, 'loc_e': 19, 'tim_b': 19, 'tim_e': 19, 'tim_i': 15, 'afw_i': 14, 'loc_i': 12, 'fld_s': 11, 'afw_b': 9, 'afw_e': 9, 'tim_s': 7, 'plt_s': 6, 'fld_b': 5, 'fld_e': 5, 'mat_s': 1, 'anm_b': 1, 'anm_e': 1})\n",
      "lang containing 1 tags Counter({'ko': 17321})\n",
      "read_conll with ko\n"
     ]
    }
   ],
   "source": [
    "train_graphs = read_conll(TRAIN_FILE, 'ko')\n",
    "train_dataset = CoNLLDataset(graphs=train_graphs, tokenizer=TOKENIZER, max_len=MAX_LEN)\n",
    "train_loader = torch.utils.data.DataLoader(train_dataset, num_workers=4, batch_size=TRAIN_BATCH_SIZE, shuffle=False)\n",
    "valid_graphs = read_conll(VALID_FILE, 'ko')\n",
    "valid_dataset = CoNLLDataset(graphs=valid_graphs, tokenizer=TOKENIZER, max_len=MAX_LEN, fullvocab=train_dataset._fullvocab)\n",
    "valid_loader = torch.utils.data.DataLoader(valid_dataset, num_workers=4, batch_size=VALID_BATCH_SIZE, shuffle=False)"
   ]
  },
  {
   "cell_type": "code",
   "execution_count": 11,
   "metadata": {},
   "outputs": [],
   "source": [
    "num_upos = len(train_dataset._upos)\n",
    "num_feat = len(train_dataset._feats)\n",
    "model = XLMRobertaEncoder(num_upos, num_feat)\n",
    "model = nn.DataParallel(model)\n",
    "model = model.cuda()"
   ]
  },
  {
   "cell_type": "code",
   "execution_count": 12,
   "metadata": {},
   "outputs": [],
   "source": [
    "loss_fn = nn.CrossEntropyLoss(ignore_index=-1)\n",
    "lr = 0.000005\n",
    "optimizer = AdamW(model.parameters(), lr=lr)"
   ]
  },
  {
   "cell_type": "code",
   "execution_count": 13,
   "metadata": {},
   "outputs": [],
   "source": [
    "def train_loop_fn(train_loader, model, optimizer, DEVICE, scheduler=None):\n",
    "    model.train()\n",
    "    \n",
    "    p_total_pred = []\n",
    "    p_total_targ = []\n",
    "    p_total_loss = []\n",
    "    \n",
    "    f_total_pred = []\n",
    "    f_total_targ = []\n",
    "    f_total_loss = []\n",
    "    \n",
    "    for idx, batch in tqdm(enumerate(train_loader), total=len(train_loader)):\n",
    "        optimizer.zero_grad()\n",
    "        \n",
    "        p_logits, f_logits = model(batch['ids'].cuda(), batch['mask'].cuda())\n",
    "        \n",
    "        #UPOS\n",
    "        b,s,l = p_logits.size()\n",
    "        #print(p_logits.view(b*s,l), p_logits.view(b*s,l).size())\n",
    "        #print(batch['upos_ids'].cuda().view(b*s), batch['upos_ids'].cuda().view(b*s).size())\n",
    "        p_loss = loss_fn(p_logits.view(b*s,l), batch['upos_ids'].cuda().view(b*s))\n",
    "        p_total_loss.append(p_loss.item())\n",
    "        p_total_pred.extend(torch.argmax(p_logits.view(b*s,l), 1).cpu().tolist())\n",
    "        p_total_targ.extend(batch['upos_ids'].cuda().view(b*s).cpu().tolist())\n",
    "        \n",
    "        #FEAT\n",
    "        b,s,l = f_logits.size()\n",
    "        f_loss = loss_fn(f_logits.view(b*s,l), batch['feat_ids'].cuda().view(b*s))\n",
    "        f_total_loss.append(f_loss.item())\n",
    "        f_total_pred.extend(torch.argmax(f_logits.view(b*s,l), 1).cpu().tolist())\n",
    "        f_total_targ.extend(batch['feat_ids'].cuda().view(b*s).cpu().tolist())\n",
    "        \n",
    "        loss = p_loss+f_loss\n",
    "        loss.backward()\n",
    "        optimizer.step()\n",
    "        \n",
    "    count_active_tokens = np.count_nonzero(np.array(p_total_targ) > -1)\n",
    "    count_correct = np.count_nonzero((np.array(p_total_pred)==np.array(p_total_targ)) == True)\n",
    "    print(\"TRAINING POS ACCURACY:\", count_correct/count_active_tokens)\n",
    "    \n",
    "    count_active_tokens = np.count_nonzero(np.array(f_total_targ) > -1)\n",
    "    count_correct = np.count_nonzero((np.array(f_total_pred)==np.array(f_total_targ)) == True)\n",
    "    f1_score(f_total_pred, f_total_targ, train_dataset._feats.get('o', 2))\n",
    "    print(\"TRAINING FEAT ACCURACY:\", count_correct/count_active_tokens)\n"
   ]
  },
  {
   "cell_type": "code",
   "execution_count": 14,
   "metadata": {},
   "outputs": [],
   "source": [
    "def valid_loop_fn(dev_loader, model, DEVICE):\n",
    "    model.eval()\n",
    "    \n",
    "    p_total_pred = []\n",
    "    p_total_targ = []\n",
    "    p_total_loss = []\n",
    "    \n",
    "    f_total_pred = []\n",
    "    f_total_targ = []\n",
    "    f_total_loss = []\n",
    "    with torch.no_grad():\n",
    "        for idx, batch in tqdm(enumerate(dev_loader), total=len(dev_loader)):\n",
    "\n",
    "            p_logits, f_logits = model(batch['ids'].cuda(), batch['mask'].cuda())\n",
    "\n",
    "            #UPOS\n",
    "            b,s,l = p_logits.size()\n",
    "            p_loss = loss_fn(p_logits.view(b*s,l), batch['upos_ids'].cuda().view(b*s))\n",
    "            p_total_loss.append(p_loss.item())\n",
    "            p_total_pred.extend(torch.argmax(p_logits.view(b*s,l), 1).cpu().tolist())\n",
    "            p_total_targ.extend(batch['upos_ids'].cuda().view(b*s).cpu().tolist())\n",
    "\n",
    "            #FEAT\n",
    "            b,s,l = f_logits.size()\n",
    "            f_loss = loss_fn(f_logits.view(b*s,l), batch['feat_ids'].cuda().view(b*s))\n",
    "            f_total_loss.append(f_loss.item())\n",
    "            f_total_pred.extend(torch.argmax(f_logits.view(b*s,l), 1).cpu().tolist())\n",
    "            f_total_targ.extend(batch['feat_ids'].cuda().view(b*s).cpu().tolist())\n",
    "\n",
    "            loss = p_loss+f_loss\n",
    "        \n",
    "    count_active_tokens = np.count_nonzero(np.array(p_total_targ) > -1)\n",
    "    count_correct = np.count_nonzero((np.array(p_total_pred)==np.array(p_total_targ)) == True)\n",
    "    print(\"VALIDATION POS ACCURACY:\", count_correct/count_active_tokens)\n",
    "    \n",
    "    count_active_tokens = np.count_nonzero(np.array(f_total_targ) > -1)\n",
    "    count_correct = np.count_nonzero((np.array(f_total_pred)==np.array(f_total_targ)) == True)\n",
    "    f1_score(f_total_pred, f_total_targ, train_dataset._feats.get('o', 2))\n",
    "    print(\"VALIDATION FEAT ACCURACY:\", count_correct/count_active_tokens)\n"
   ]
  },
  {
   "cell_type": "code",
   "execution_count": 15,
   "metadata": {},
   "outputs": [
    {
     "name": "stdout",
     "output_type": "stream",
     "text": [
      "0\n"
     ]
    }
   ],
   "source": [
    "print(train_dataset._feats.get('o'))"
   ]
  },
  {
   "cell_type": "code",
   "execution_count": 16,
   "metadata": {},
   "outputs": [
    {
     "name": "stderr",
     "output_type": "stream",
     "text": [
      "100%|██████████| 58/58 [00:23<00:00,  2.48it/s]\n"
     ]
    },
    {
     "name": "stdout",
     "output_type": "stream",
     "text": [
      "TRAINING POS ACCURACY: 0.3078921540326771\n",
      "count_correct_p 6\n",
      "count_active_tokens_p 6104\n",
      "precision: 0.000982961992136304\n",
      "count_active_tokens_r 3750\n",
      "count_correct_r 6\n",
      "recall: 0.0016\n",
      "F1: 0\n",
      "TRAINING FEAT ACCURACY: 0.5213324865769875\n"
     ]
    },
    {
     "name": "stderr",
     "output_type": "stream",
     "text": [
      "100%|██████████| 58/58 [00:23<00:00,  2.48it/s]\n"
     ]
    },
    {
     "name": "stdout",
     "output_type": "stream",
     "text": [
      "TRAINING POS ACCURACY: 0.5305120951446222\n",
      "count_correct_p 0\n",
      "count_active_tokens_p 8\n",
      "precision: 0.0\n",
      "count_active_tokens_r 3750\n",
      "count_correct_r 0\n",
      "recall: 0.0\n",
      "F1: 0\n",
      "TRAINING FEAT ACCURACY: 0.7832688643842735\n"
     ]
    },
    {
     "name": "stderr",
     "output_type": "stream",
     "text": [
      "100%|██████████| 58/58 [00:23<00:00,  2.48it/s]\n"
     ]
    },
    {
     "name": "stdout",
     "output_type": "stream",
     "text": [
      "TRAINING POS ACCURACY: 0.6906645112868772\n",
      "count_correct_p 0\n",
      "count_active_tokens_p 9\n",
      "precision: 0.0\n",
      "count_active_tokens_r 3750\n",
      "count_correct_r 0\n",
      "recall: 0.0\n",
      "F1: 0\n",
      "TRAINING FEAT ACCURACY: 0.7834997979331447\n"
     ]
    },
    {
     "name": "stderr",
     "output_type": "stream",
     "text": [
      "100%|██████████| 58/58 [00:23<00:00,  2.49it/s]\n"
     ]
    },
    {
     "name": "stdout",
     "output_type": "stream",
     "text": [
      "TRAINING POS ACCURACY: 0.8128860920270192\n",
      "count_correct_p 204\n",
      "count_active_tokens_p 410\n",
      "precision: 0.4975609756097561\n",
      "count_active_tokens_r 3750\n",
      "count_correct_r 204\n",
      "recall: 0.0544\n",
      "F1: 0\n",
      "TRAINING FEAT ACCURACY: 0.7950464753767104\n"
     ]
    },
    {
     "name": "stderr",
     "output_type": "stream",
     "text": [
      "100%|██████████| 58/58 [00:23<00:00,  2.48it/s]\n"
     ]
    },
    {
     "name": "stdout",
     "output_type": "stream",
     "text": [
      "TRAINING POS ACCURACY: 0.853588130015588\n",
      "count_correct_p 388\n",
      "count_active_tokens_p 843\n",
      "precision: 0.46026097271648875\n",
      "count_active_tokens_r 3750\n",
      "count_correct_r 388\n",
      "recall: 0.10346666666666667\n",
      "F1: 0\n",
      "TRAINING FEAT ACCURACY: 0.804918884590959\n"
     ]
    },
    {
     "name": "stderr",
     "output_type": "stream",
     "text": [
      "100%|██████████| 58/58 [00:23<00:00,  2.48it/s]\n"
     ]
    },
    {
     "name": "stdout",
     "output_type": "stream",
     "text": [
      "TRAINING POS ACCURACY: 0.8780670861959471\n",
      "count_correct_p 543\n",
      "count_active_tokens_p 1348\n",
      "precision: 0.40281899109792285\n",
      "count_active_tokens_r 3750\n",
      "count_correct_r 543\n",
      "recall: 0.1448\n",
      "F1: 0\n",
      "TRAINING FEAT ACCURACY: 0.8130015588014549\n"
     ]
    },
    {
     "name": "stderr",
     "output_type": "stream",
     "text": [
      "100%|██████████| 58/58 [00:23<00:00,  2.48it/s]\n"
     ]
    },
    {
     "name": "stdout",
     "output_type": "stream",
     "text": [
      "TRAINING POS ACCURACY: 0.8957335026846025\n",
      "count_correct_p 690\n",
      "count_active_tokens_p 1821\n",
      "precision: 0.37891268533772654\n",
      "count_active_tokens_r 3750\n",
      "count_correct_r 690\n",
      "recall: 0.184\n",
      "F1: 0\n",
      "TRAINING FEAT ACCURACY: 0.8194099647826338\n"
     ]
    },
    {
     "name": "stderr",
     "output_type": "stream",
     "text": [
      "100%|██████████| 58/58 [00:23<00:00,  2.48it/s]\n"
     ]
    },
    {
     "name": "stdout",
     "output_type": "stream",
     "text": [
      "TRAINING POS ACCURACY: 0.9093585820680099\n",
      "count_correct_p 792\n",
      "count_active_tokens_p 2127\n",
      "precision: 0.3723554301833568\n",
      "count_active_tokens_r 3750\n",
      "count_correct_r 792\n",
      "recall: 0.2112\n",
      "F1: 0\n",
      "TRAINING FEAT ACCURACY: 0.8244327694705849\n"
     ]
    },
    {
     "name": "stderr",
     "output_type": "stream",
     "text": [
      "100%|██████████| 58/58 [00:23<00:00,  2.48it/s]\n"
     ]
    },
    {
     "name": "stdout",
     "output_type": "stream",
     "text": [
      "TRAINING POS ACCURACY: 0.9186536574100802\n",
      "count_correct_p 890\n",
      "count_active_tokens_p 2290\n",
      "precision: 0.388646288209607\n",
      "count_active_tokens_r 3750\n",
      "count_correct_r 890\n",
      "recall: 0.23733333333333334\n",
      "F1: 0\n",
      "TRAINING FEAT ACCURACY: 0.8288782402863576\n"
     ]
    },
    {
     "name": "stderr",
     "output_type": "stream",
     "text": [
      "100%|██████████| 58/58 [00:23<00:00,  2.49it/s]\n"
     ]
    },
    {
     "name": "stdout",
     "output_type": "stream",
     "text": [
      "TRAINING POS ACCURACY: 0.9248311298423878\n",
      "count_correct_p 967\n",
      "count_active_tokens_p 2496\n",
      "precision: 0.3874198717948718\n",
      "count_active_tokens_r 3750\n",
      "count_correct_r 967\n",
      "recall: 0.2578666666666667\n",
      "F1: 0\n",
      "TRAINING FEAT ACCURACY: 0.8333814444893481\n"
     ]
    },
    {
     "name": "stderr",
     "output_type": "stream",
     "text": [
      "100%|██████████| 58/58 [00:23<00:00,  2.48it/s]\n"
     ]
    },
    {
     "name": "stdout",
     "output_type": "stream",
     "text": [
      "TRAINING POS ACCURACY: 0.9307776687258241\n",
      "count_correct_p 1050\n",
      "count_active_tokens_p 2584\n",
      "precision: 0.40634674922600617\n",
      "count_active_tokens_r 3750\n",
      "count_correct_r 1050\n",
      "recall: 0.28\n",
      "F1: 0\n",
      "TRAINING FEAT ACCURACY: 0.8372495814329427\n"
     ]
    },
    {
     "name": "stderr",
     "output_type": "stream",
     "text": [
      "100%|██████████| 58/58 [00:23<00:00,  2.48it/s]\n"
     ]
    },
    {
     "name": "stdout",
     "output_type": "stream",
     "text": [
      "TRAINING POS ACCURACY: 0.937878875353617\n",
      "count_correct_p 1174\n",
      "count_active_tokens_p 2679\n",
      "precision: 0.43822321761851435\n",
      "count_active_tokens_r 3750\n",
      "count_correct_r 1174\n",
      "recall: 0.31306666666666666\n",
      "F1: 0\n",
      "TRAINING FEAT ACCURACY: 0.8451013220945673\n"
     ]
    },
    {
     "name": "stderr",
     "output_type": "stream",
     "text": [
      "100%|██████████| 58/58 [00:23<00:00,  2.49it/s]\n"
     ]
    },
    {
     "name": "stdout",
     "output_type": "stream",
     "text": [
      "TRAINING POS ACCURACY: 0.9420934126205185\n",
      "count_correct_p 1226\n",
      "count_active_tokens_p 2718\n",
      "precision: 0.45106696100073584\n",
      "count_active_tokens_r 3750\n",
      "count_correct_r 1226\n",
      "recall: 0.32693333333333335\n",
      "F1: 0\n",
      "TRAINING FEAT ACCURACY: 0.8476415911321518\n"
     ]
    },
    {
     "name": "stderr",
     "output_type": "stream",
     "text": [
      "100%|██████████| 58/58 [00:23<00:00,  2.48it/s]\n"
     ]
    },
    {
     "name": "stdout",
     "output_type": "stream",
     "text": [
      "TRAINING POS ACCURACY: 0.9461924831129842\n",
      "count_correct_p 1315\n",
      "count_active_tokens_p 2797\n",
      "precision: 0.470146585627458\n",
      "count_active_tokens_r 3750\n",
      "count_correct_r 1315\n",
      "recall: 0.3506666666666667\n",
      "F1: 0\n",
      "TRAINING FEAT ACCURACY: 0.852260262109578\n"
     ]
    },
    {
     "name": "stderr",
     "output_type": "stream",
     "text": [
      "100%|██████████| 58/58 [00:23<00:00,  2.48it/s]\n"
     ]
    },
    {
     "name": "stdout",
     "output_type": "stream",
     "text": [
      "TRAINING POS ACCURACY: 0.949945153282143\n",
      "count_correct_p 1391\n",
      "count_active_tokens_p 2856\n",
      "precision: 0.48704481792717086\n",
      "count_active_tokens_r 3750\n",
      "count_correct_r 1391\n",
      "recall: 0.37093333333333334\n",
      "F1: 0\n",
      "TRAINING FEAT ACCURACY: 0.8571098666358755\n"
     ]
    },
    {
     "name": "stderr",
     "output_type": "stream",
     "text": [
      "100%|██████████| 58/58 [00:23<00:00,  2.48it/s]\n"
     ]
    },
    {
     "name": "stdout",
     "output_type": "stream",
     "text": [
      "TRAINING POS ACCURACY: 0.9506956873159749\n",
      "count_correct_p 1423\n",
      "count_active_tokens_p 2922\n",
      "precision: 0.4869952087611225\n",
      "count_active_tokens_r 3750\n",
      "count_correct_r 1423\n",
      "recall: 0.3794666666666667\n",
      "F1: 0\n",
      "TRAINING FEAT ACCURACY: 0.8579181340569251\n"
     ]
    },
    {
     "name": "stderr",
     "output_type": "stream",
     "text": [
      "100%|██████████| 58/58 [00:23<00:00,  2.48it/s]\n"
     ]
    },
    {
     "name": "stdout",
     "output_type": "stream",
     "text": [
      "TRAINING POS ACCURACY: 0.9540442237746088\n",
      "count_correct_p 1516\n",
      "count_active_tokens_p 3002\n",
      "precision: 0.5049966688874084\n",
      "count_active_tokens_r 3750\n",
      "count_correct_r 1516\n",
      "recall: 0.40426666666666666\n",
      "F1: 0\n",
      "TRAINING FEAT ACCURACY: 0.8632296056809653\n"
     ]
    },
    {
     "name": "stderr",
     "output_type": "stream",
     "text": [
      "100%|██████████| 58/58 [00:23<00:00,  2.48it/s]\n"
     ]
    },
    {
     "name": "stdout",
     "output_type": "stream",
     "text": [
      "TRAINING POS ACCURACY: 0.9568731597482825\n",
      "count_correct_p 1535\n",
      "count_active_tokens_p 3026\n",
      "precision: 0.507270323859881\n",
      "count_active_tokens_r 3750\n",
      "count_correct_r 1535\n",
      "recall: 0.4093333333333333\n",
      "F1: 0\n",
      "TRAINING FEAT ACCURACY: 0.8644997401997575\n"
     ]
    },
    {
     "name": "stderr",
     "output_type": "stream",
     "text": [
      "100%|██████████| 58/58 [00:23<00:00,  2.48it/s]\n"
     ]
    },
    {
     "name": "stdout",
     "output_type": "stream",
     "text": [
      "TRAINING POS ACCURACY: 0.9581432942670747\n",
      "count_correct_p 1638\n",
      "count_active_tokens_p 3115\n",
      "precision: 0.5258426966292135\n",
      "count_active_tokens_r 3750\n",
      "count_correct_r 1638\n",
      "recall: 0.4368\n",
      "F1: 0\n",
      "TRAINING FEAT ACCURACY: 0.8696380116621443\n"
     ]
    },
    {
     "name": "stderr",
     "output_type": "stream",
     "text": [
      "100%|██████████| 58/58 [00:23<00:00,  2.48it/s]\n"
     ]
    },
    {
     "name": "stdout",
     "output_type": "stream",
     "text": [
      "TRAINING POS ACCURACY: 0.9597598291091738\n",
      "count_correct_p 1669\n",
      "count_active_tokens_p 3130\n",
      "precision: 0.5332268370607028\n",
      "count_active_tokens_r 3750\n",
      "count_correct_r 1669\n",
      "recall: 0.44506666666666667\n",
      "F1: 0\n",
      "TRAINING FEAT ACCURACY: 0.8726401477974712\n"
     ]
    },
    {
     "name": "stderr",
     "output_type": "stream",
     "text": [
      "100%|██████████| 58/58 [00:23<00:00,  2.48it/s]\n"
     ]
    },
    {
     "name": "stdout",
     "output_type": "stream",
     "text": [
      "TRAINING POS ACCURACY: 0.9645517002482535\n",
      "count_correct_p 1743\n",
      "count_active_tokens_p 3196\n",
      "precision: 0.545369211514393\n",
      "count_active_tokens_r 3750\n",
      "count_correct_r 1743\n",
      "recall: 0.4648\n",
      "F1: 0\n",
      "TRAINING FEAT ACCURACY: 0.8759886842561053\n"
     ]
    },
    {
     "name": "stderr",
     "output_type": "stream",
     "text": [
      "100%|██████████| 58/58 [00:23<00:00,  2.48it/s]\n"
     ]
    },
    {
     "name": "stdout",
     "output_type": "stream",
     "text": [
      "TRAINING POS ACCURACY: 0.9675538363835806\n",
      "count_correct_p 1793\n",
      "count_active_tokens_p 3244\n",
      "precision: 0.5527127003699137\n",
      "count_active_tokens_r 3750\n",
      "count_correct_r 1793\n",
      "recall: 0.47813333333333335\n",
      "F1: 0\n",
      "TRAINING FEAT ACCURACY: 0.8796258876508285\n"
     ]
    },
    {
     "name": "stderr",
     "output_type": "stream",
     "text": [
      "100%|██████████| 58/58 [00:23<00:00,  2.48it/s]\n"
     ]
    },
    {
     "name": "stdout",
     "output_type": "stream",
     "text": [
      "TRAINING POS ACCURACY: 0.9688239709023728\n",
      "count_correct_p 1838\n",
      "count_active_tokens_p 3256\n",
      "precision: 0.5644963144963145\n",
      "count_active_tokens_r 3750\n",
      "count_correct_r 1838\n",
      "recall: 0.4901333333333333\n",
      "F1: 0\n",
      "TRAINING FEAT ACCURACY: 0.8814156226545812\n"
     ]
    },
    {
     "name": "stderr",
     "output_type": "stream",
     "text": [
      "100%|██████████| 58/58 [00:23<00:00,  2.48it/s]\n"
     ]
    },
    {
     "name": "stdout",
     "output_type": "stream",
     "text": [
      "TRAINING POS ACCURACY: 0.9700363720339472\n",
      "count_correct_p 1883\n",
      "count_active_tokens_p 3289\n",
      "precision: 0.5725144420796595\n",
      "count_active_tokens_r 3750\n",
      "count_correct_r 1883\n",
      "recall: 0.5021333333333333\n",
      "F1: 0\n",
      "TRAINING FEAT ACCURACY: 0.8852837595981756\n"
     ]
    },
    {
     "name": "stderr",
     "output_type": "stream",
     "text": [
      "100%|██████████| 58/58 [00:23<00:00,  2.48it/s]\n"
     ]
    },
    {
     "name": "stdout",
     "output_type": "stream",
     "text": [
      "TRAINING POS ACCURACY: 0.9715951734888286\n",
      "count_correct_p 1930\n",
      "count_active_tokens_p 3309\n",
      "precision: 0.5832577818071925\n",
      "count_active_tokens_r 3750\n",
      "count_correct_r 1930\n",
      "recall: 0.5146666666666667\n",
      "F1: 0\n",
      "TRAINING FEAT ACCURACY: 0.8880549621846314\n"
     ]
    },
    {
     "name": "stderr",
     "output_type": "stream",
     "text": [
      "100%|██████████| 58/58 [00:23<00:00,  2.48it/s]\n"
     ]
    },
    {
     "name": "stdout",
     "output_type": "stream",
     "text": [
      "TRAINING POS ACCURACY: 0.9725766410715316\n",
      "count_correct_p 2019\n",
      "count_active_tokens_p 3351\n",
      "precision: 0.6025067144136079\n",
      "count_active_tokens_r 3750\n",
      "count_correct_r 2019\n",
      "recall: 0.5384\n",
      "F1: 0\n",
      "TRAINING FEAT ACCURACY: 0.8928468333237111\n"
     ]
    },
    {
     "name": "stderr",
     "output_type": "stream",
     "text": [
      "100%|██████████| 58/58 [00:23<00:00,  2.48it/s]\n"
     ]
    },
    {
     "name": "stdout",
     "output_type": "stream",
     "text": [
      "TRAINING POS ACCURACY: 0.971479706714393\n",
      "count_correct_p 2044\n",
      "count_active_tokens_p 3360\n",
      "precision: 0.6083333333333333\n",
      "count_active_tokens_r 3750\n",
      "count_correct_r 2044\n",
      "recall: 0.5450666666666667\n",
      "F1: 0\n",
      "TRAINING FEAT ACCURACY: 0.8945211015530281\n"
     ]
    },
    {
     "name": "stderr",
     "output_type": "stream",
     "text": [
      "100%|██████████| 58/58 [00:23<00:00,  2.48it/s]\n"
     ]
    },
    {
     "name": "stdout",
     "output_type": "stream",
     "text": [
      "TRAINING POS ACCURACY: 0.9732117083309277\n",
      "count_correct_p 2090\n",
      "count_active_tokens_p 3388\n",
      "precision: 0.6168831168831169\n",
      "count_active_tokens_r 3750\n",
      "count_correct_r 2090\n",
      "recall: 0.5573333333333333\n",
      "F1: 0\n",
      "TRAINING FEAT ACCURACY: 0.8977541712372265\n"
     ]
    },
    {
     "name": "stderr",
     "output_type": "stream",
     "text": [
      "100%|██████████| 58/58 [00:23<00:00,  2.48it/s]\n"
     ]
    },
    {
     "name": "stdout",
     "output_type": "stream",
     "text": [
      "TRAINING POS ACCURACY: 0.973789042203106\n",
      "count_correct_p 2159\n",
      "count_active_tokens_p 3411\n",
      "precision: 0.6329522134271475\n",
      "count_active_tokens_r 3750\n",
      "count_correct_r 2159\n",
      "recall: 0.5757333333333333\n",
      "F1: 0\n",
      "TRAINING FEAT ACCURACY: 0.9019109751169101\n"
     ]
    },
    {
     "name": "stderr",
     "output_type": "stream",
     "text": [
      "100%|██████████| 58/58 [00:23<00:00,  2.48it/s]\n"
     ]
    },
    {
     "name": "stdout",
     "output_type": "stream",
     "text": [
      "TRAINING POS ACCURACY: 0.973789042203106\n",
      "count_correct_p 2203\n",
      "count_active_tokens_p 3430\n",
      "precision: 0.6422740524781341\n",
      "count_active_tokens_r 3750\n",
      "count_correct_r 2203\n",
      "recall: 0.5874666666666667\n",
      "F1: 0\n",
      "TRAINING FEAT ACCURACY: 0.903931643669534\n"
     ]
    },
    {
     "name": "stderr",
     "output_type": "stream",
     "text": [
      "100%|██████████| 58/58 [00:23<00:00,  2.48it/s]\n"
     ]
    },
    {
     "name": "stdout",
     "output_type": "stream",
     "text": [
      "TRAINING POS ACCURACY: 0.9747127763985913\n",
      "count_correct_p 2261\n",
      "count_active_tokens_p 3442\n",
      "precision: 0.6568855316676351\n",
      "count_active_tokens_r 3750\n",
      "count_correct_r 2261\n",
      "recall: 0.6029333333333333\n",
      "F1: 0\n",
      "TRAINING FEAT ACCURACY: 0.9077420472259108\n"
     ]
    },
    {
     "name": "stderr",
     "output_type": "stream",
     "text": [
      "100%|██████████| 58/58 [00:23<00:00,  2.48it/s]\n"
     ]
    },
    {
     "name": "stdout",
     "output_type": "stream",
     "text": [
      "TRAINING POS ACCURACY: 0.974828243173027\n",
      "count_correct_p 2340\n",
      "count_active_tokens_p 3474\n",
      "precision: 0.6735751295336787\n",
      "count_active_tokens_r 3750\n",
      "count_correct_r 2340\n",
      "recall: 0.624\n",
      "F1: 0\n",
      "TRAINING FEAT ACCURACY: 0.912707118526644\n"
     ]
    },
    {
     "name": "stderr",
     "output_type": "stream",
     "text": [
      "100%|██████████| 58/58 [00:23<00:00,  2.48it/s]\n"
     ]
    },
    {
     "name": "stdout",
     "output_type": "stream",
     "text": [
      "TRAINING POS ACCURACY: 0.9781190462444431\n",
      "count_correct_p 2375\n",
      "count_active_tokens_p 3489\n",
      "precision: 0.6807108053883635\n",
      "count_active_tokens_r 3750\n",
      "count_correct_r 2375\n",
      "recall: 0.6333333333333333\n",
      "F1: 0\n",
      "TRAINING FEAT ACCURACY: 0.9143813867559609\n"
     ]
    },
    {
     "name": "stderr",
     "output_type": "stream",
     "text": [
      "100%|██████████| 58/58 [00:23<00:00,  2.48it/s]\n"
     ]
    },
    {
     "name": "stdout",
     "output_type": "stream",
     "text": [
      "TRAINING POS ACCURACY: 0.9773107788233936\n",
      "count_correct_p 2430\n",
      "count_active_tokens_p 3509\n",
      "precision: 0.6925049871758335\n",
      "count_active_tokens_r 3750\n",
      "count_correct_r 2430\n",
      "recall: 0.648\n",
      "F1: 0\n",
      "TRAINING FEAT ACCURACY: 0.9180185901506841\n"
     ]
    },
    {
     "name": "stderr",
     "output_type": "stream",
     "text": [
      "100%|██████████| 58/58 [00:23<00:00,  2.48it/s]\n"
     ]
    },
    {
     "name": "stdout",
     "output_type": "stream",
     "text": [
      "TRAINING POS ACCURACY: 0.9783499797933145\n",
      "count_correct_p 2489\n",
      "count_active_tokens_p 3514\n",
      "precision: 0.7083096186681844\n",
      "count_active_tokens_r 3750\n",
      "count_correct_r 2489\n",
      "recall: 0.6637333333333333\n",
      "F1: 0\n",
      "TRAINING FEAT ACCURACY: 0.9216557935454073\n"
     ]
    },
    {
     "name": "stderr",
     "output_type": "stream",
     "text": [
      "100%|██████████| 58/58 [00:23<00:00,  2.48it/s]\n"
     ]
    },
    {
     "name": "stdout",
     "output_type": "stream",
     "text": [
      "TRAINING POS ACCURACY: 0.9780035794700075\n",
      "count_correct_p 2549\n",
      "count_active_tokens_p 3515\n",
      "precision: 0.7251778093883358\n",
      "count_active_tokens_r 3750\n",
      "count_correct_r 2549\n",
      "recall: 0.6797333333333333\n",
      "F1: 0\n",
      "TRAINING FEAT ACCURACY: 0.9262167311356158\n"
     ]
    },
    {
     "name": "stderr",
     "output_type": "stream",
     "text": [
      "100%|██████████| 58/58 [00:23<00:00,  2.49it/s]\n"
     ]
    },
    {
     "name": "stdout",
     "output_type": "stream",
     "text": [
      "TRAINING POS ACCURACY: 0.9795623809248889\n",
      "count_correct_p 2610\n",
      "count_active_tokens_p 3551\n",
      "precision: 0.7350042241622078\n",
      "count_active_tokens_r 3750\n",
      "count_correct_r 2610\n",
      "recall: 0.696\n",
      "F1: 0\n",
      "TRAINING FEAT ACCURACY: 0.9292188672709428\n"
     ]
    },
    {
     "name": "stderr",
     "output_type": "stream",
     "text": [
      "100%|██████████| 58/58 [00:23<00:00,  2.48it/s]\n"
     ]
    },
    {
     "name": "stdout",
     "output_type": "stream",
     "text": [
      "TRAINING POS ACCURACY: 0.9784654465677501\n",
      "count_correct_p 2676\n",
      "count_active_tokens_p 3567\n",
      "precision: 0.7502102607232969\n",
      "count_active_tokens_r 3750\n",
      "count_correct_r 2676\n",
      "recall: 0.7136\n",
      "F1: 0\n",
      "TRAINING FEAT ACCURACY: 0.9327983372784481\n"
     ]
    },
    {
     "name": "stderr",
     "output_type": "stream",
     "text": [
      "100%|██████████| 58/58 [00:23<00:00,  2.48it/s]\n"
     ]
    },
    {
     "name": "stdout",
     "output_type": "stream",
     "text": [
      "TRAINING POS ACCURACY: 0.9812943825414238\n",
      "count_correct_p 2686\n",
      "count_active_tokens_p 3556\n",
      "precision: 0.7553430821147357\n",
      "count_active_tokens_r 3750\n",
      "count_correct_r 2686\n",
      "recall: 0.7162666666666667\n",
      "F1: 0\n",
      "TRAINING FEAT ACCURACY: 0.9337798048611512\n"
     ]
    },
    {
     "name": "stderr",
     "output_type": "stream",
     "text": [
      "100%|██████████| 58/58 [00:23<00:00,  2.48it/s]\n"
     ]
    },
    {
     "name": "stdout",
     "output_type": "stream",
     "text": [
      "TRAINING POS ACCURACY: 0.9809479822181167\n",
      "count_correct_p 2770\n",
      "count_active_tokens_p 3593\n",
      "precision: 0.7709435012524353\n",
      "count_active_tokens_r 3750\n",
      "count_correct_r 2770\n",
      "recall: 0.7386666666666667\n",
      "F1: 0\n",
      "TRAINING FEAT ACCURACY: 0.9383984758385775\n"
     ]
    },
    {
     "name": "stderr",
     "output_type": "stream",
     "text": [
      "100%|██████████| 58/58 [00:23<00:00,  2.48it/s]\n"
     ]
    },
    {
     "name": "stdout",
     "output_type": "stream",
     "text": [
      "TRAINING POS ACCURACY: 0.9808902488308989\n",
      "count_correct_p 2808\n",
      "count_active_tokens_p 3589\n",
      "precision: 0.7823906380607412\n",
      "count_active_tokens_r 3750\n",
      "count_correct_r 2808\n",
      "recall: 0.7488\n",
      "F1: 0\n",
      "TRAINING FEAT ACCURACY: 0.9412851451994688\n"
     ]
    },
    {
     "name": "stderr",
     "output_type": "stream",
     "text": [
      "100%|██████████| 58/58 [00:23<00:00,  2.49it/s]\n"
     ]
    },
    {
     "name": "stdout",
     "output_type": "stream",
     "text": [
      "TRAINING POS ACCURACY: 0.980197448184285\n",
      "count_correct_p 2868\n",
      "count_active_tokens_p 3598\n",
      "precision: 0.7971095052807116\n",
      "count_active_tokens_r 3750\n",
      "count_correct_r 2868\n",
      "recall: 0.7648\n",
      "F1: 0\n",
      "TRAINING FEAT ACCURACY: 0.9445182148836673\n"
     ]
    },
    {
     "name": "stderr",
     "output_type": "stream",
     "text": [
      "100%|██████████| 58/58 [00:23<00:00,  2.49it/s]\n"
     ]
    },
    {
     "name": "stdout",
     "output_type": "stream",
     "text": [
      "TRAINING POS ACCURACY: 0.9815830494775128\n",
      "count_correct_p 2894\n",
      "count_active_tokens_p 3635\n",
      "precision: 0.7961485557083906\n",
      "count_active_tokens_r 3750\n",
      "count_correct_r 2894\n",
      "recall: 0.7717333333333334\n",
      "F1: 0\n",
      "TRAINING FEAT ACCURACY: 0.9451532821430634\n"
     ]
    },
    {
     "name": "stderr",
     "output_type": "stream",
     "text": [
      "100%|██████████| 58/58 [00:23<00:00,  2.48it/s]\n"
     ]
    },
    {
     "name": "stdout",
     "output_type": "stream",
     "text": [
      "TRAINING POS ACCURACY: 0.9827954506090872\n",
      "count_correct_p 2887\n",
      "count_active_tokens_p 3592\n",
      "precision: 0.8037305122494433\n",
      "count_active_tokens_r 3750\n",
      "count_correct_r 2887\n",
      "recall: 0.7698666666666667\n",
      "F1: 0\n",
      "TRAINING FEAT ACCURACY: 0.9459615495641129\n"
     ]
    },
    {
     "name": "stderr",
     "output_type": "stream",
     "text": [
      "100%|██████████| 58/58 [00:23<00:00,  2.48it/s]\n"
     ]
    },
    {
     "name": "stdout",
     "output_type": "stream",
     "text": [
      "TRAINING POS ACCURACY: 0.9815830494775128\n",
      "count_correct_p 2960\n",
      "count_active_tokens_p 3608\n",
      "precision: 0.8203991130820399\n",
      "count_active_tokens_r 3750\n",
      "count_correct_r 2960\n",
      "recall: 0.7893333333333333\n",
      "F1: 0\n",
      "TRAINING FEAT ACCURACY: 0.9503492869926679\n"
     ]
    },
    {
     "name": "stderr",
     "output_type": "stream",
     "text": [
      "100%|██████████| 58/58 [00:23<00:00,  2.47it/s]\n"
     ]
    },
    {
     "name": "stdout",
     "output_type": "stream",
     "text": [
      "TRAINING POS ACCURACY: 0.9823913168985624\n",
      "count_correct_p 2988\n",
      "count_active_tokens_p 3642\n",
      "precision: 0.8204283360790774\n",
      "count_active_tokens_r 3750\n",
      "count_correct_r 2988\n",
      "recall: 0.7968\n",
      "F1: 0\n",
      "TRAINING FEAT ACCURACY: 0.9521390219964205\n"
     ]
    },
    {
     "name": "stderr",
     "output_type": "stream",
     "text": [
      "100%|██████████| 58/58 [00:23<00:00,  2.48it/s]\n"
     ]
    },
    {
     "name": "stdout",
     "output_type": "stream",
     "text": [
      "TRAINING POS ACCURACY: 0.9816985162519485\n",
      "count_correct_p 3040\n",
      "count_active_tokens_p 3636\n",
      "precision: 0.8360836083608361\n",
      "count_active_tokens_r 3750\n",
      "count_correct_r 3040\n",
      "recall: 0.8106666666666666\n",
      "F1: 0\n",
      "TRAINING FEAT ACCURACY: 0.9556607586167081\n"
     ]
    },
    {
     "name": "stderr",
     "output_type": "stream",
     "text": [
      "100%|██████████| 58/58 [00:23<00:00,  2.48it/s]\n"
     ]
    },
    {
     "name": "stdout",
     "output_type": "stream",
     "text": [
      "TRAINING POS ACCURACY: 0.9829686507707407\n",
      "count_correct_p 3064\n",
      "count_active_tokens_p 3650\n",
      "precision: 0.8394520547945206\n",
      "count_active_tokens_r 3750\n",
      "count_correct_r 3064\n",
      "recall: 0.8170666666666667\n",
      "F1: 0\n",
      "TRAINING FEAT ACCURACY: 0.9568154263610646\n"
     ]
    },
    {
     "name": "stderr",
     "output_type": "stream",
     "text": [
      "100%|██████████| 58/58 [00:23<00:00,  2.48it/s]\n"
     ]
    },
    {
     "name": "stdout",
     "output_type": "stream",
     "text": [
      "TRAINING POS ACCURACY: 0.9838346515790082\n",
      "count_correct_p 3089\n",
      "count_active_tokens_p 3660\n",
      "precision: 0.8439890710382514\n",
      "count_active_tokens_r 3750\n",
      "count_correct_r 3089\n",
      "recall: 0.8237333333333333\n",
      "F1: 0\n",
      "TRAINING FEAT ACCURACY: 0.958027827492639\n"
     ]
    },
    {
     "name": "stderr",
     "output_type": "stream",
     "text": [
      "100%|██████████| 58/58 [00:23<00:00,  2.48it/s]\n"
     ]
    },
    {
     "name": "stdout",
     "output_type": "stream",
     "text": [
      "TRAINING POS ACCURACY: 0.9840078517406616\n",
      "count_correct_p 3099\n",
      "count_active_tokens_p 3668\n",
      "precision: 0.8448745910577972\n",
      "count_active_tokens_r 3750\n",
      "count_correct_r 3099\n",
      "recall: 0.8264\n",
      "F1: 0\n",
      "TRAINING FEAT ACCURACY: 0.9589515616881242\n"
     ]
    },
    {
     "name": "stderr",
     "output_type": "stream",
     "text": [
      "100%|██████████| 58/58 [00:23<00:00,  2.48it/s]\n"
     ]
    },
    {
     "name": "stdout",
     "output_type": "stream",
     "text": [
      "TRAINING POS ACCURACY: 0.984873852548929\n",
      "count_correct_p 3141\n",
      "count_active_tokens_p 3660\n",
      "precision: 0.8581967213114754\n",
      "count_active_tokens_r 3750\n",
      "count_correct_r 3141\n",
      "recall: 0.8376\n",
      "F1: 0\n",
      "TRAINING FEAT ACCURACY: 0.9617804976617979\n"
     ]
    },
    {
     "name": "stderr",
     "output_type": "stream",
     "text": [
      "100%|██████████| 58/58 [00:23<00:00,  2.48it/s]\n"
     ]
    },
    {
     "name": "stdout",
     "output_type": "stream",
     "text": [
      "TRAINING POS ACCURACY: 0.9848161191617112\n",
      "count_correct_p 3163\n",
      "count_active_tokens_p 3687\n",
      "precision: 0.8578790344453485\n",
      "count_active_tokens_r 3750\n",
      "count_correct_r 3163\n",
      "recall: 0.8434666666666667\n",
      "F1: 0\n",
      "TRAINING FEAT ACCURACY: 0.962704231857283\n"
     ]
    },
    {
     "name": "stderr",
     "output_type": "stream",
     "text": [
      "100%|██████████| 58/58 [00:23<00:00,  2.48it/s]\n"
     ]
    },
    {
     "name": "stdout",
     "output_type": "stream",
     "text": [
      "TRAINING POS ACCURACY: 0.9854511864211073\n",
      "count_correct_p 3186\n",
      "count_active_tokens_p 3685\n",
      "precision: 0.8645861601085482\n",
      "count_active_tokens_r 3750\n",
      "count_correct_r 3186\n",
      "recall: 0.8496\n",
      "F1: 0\n",
      "TRAINING FEAT ACCURACY: 0.9642052999249466\n"
     ]
    },
    {
     "name": "stderr",
     "output_type": "stream",
     "text": [
      "100%|██████████| 58/58 [00:23<00:00,  2.48it/s]\n"
     ]
    },
    {
     "name": "stdout",
     "output_type": "stream",
     "text": [
      "TRAINING POS ACCURACY: 0.9857398533571965\n",
      "count_correct_p 3223\n",
      "count_active_tokens_p 3674\n",
      "precision: 0.8772455089820359\n",
      "count_active_tokens_r 3750\n",
      "count_correct_r 3223\n",
      "recall: 0.8594666666666667\n",
      "F1: 0\n",
      "TRAINING FEAT ACCURACY: 0.967091969285838\n"
     ]
    },
    {
     "name": "stderr",
     "output_type": "stream",
     "text": [
      "100%|██████████| 58/58 [00:23<00:00,  2.48it/s]\n"
     ]
    },
    {
     "name": "stdout",
     "output_type": "stream",
     "text": [
      "TRAINING POS ACCURACY: 0.987587321748167\n",
      "count_correct_p 3238\n",
      "count_active_tokens_p 3679\n",
      "precision: 0.8801304702364773\n",
      "count_active_tokens_r 3750\n",
      "count_correct_r 3238\n",
      "recall: 0.8634666666666667\n",
      "F1: 0\n",
      "TRAINING FEAT ACCURACY: 0.9679579700941054\n"
     ]
    },
    {
     "name": "stderr",
     "output_type": "stream",
     "text": [
      "100%|██████████| 58/58 [00:23<00:00,  2.48it/s]\n"
     ]
    },
    {
     "name": "stdout",
     "output_type": "stream",
     "text": [
      "TRAINING POS ACCURACY: 0.9877027885226026\n",
      "count_correct_p 3237\n",
      "count_active_tokens_p 3692\n",
      "precision: 0.8767605633802817\n",
      "count_active_tokens_r 3750\n",
      "count_correct_r 3237\n",
      "recall: 0.8632\n",
      "F1: 0\n",
      "TRAINING FEAT ACCURACY: 0.9678425033196698\n"
     ]
    },
    {
     "name": "stderr",
     "output_type": "stream",
     "text": [
      "100%|██████████| 58/58 [00:23<00:00,  2.49it/s]\n"
     ]
    },
    {
     "name": "stdout",
     "output_type": "stream",
     "text": [
      "TRAINING POS ACCURACY: 0.9883378557819987\n",
      "count_correct_p 3271\n",
      "count_active_tokens_p 3695\n",
      "precision: 0.8852503382949932\n",
      "count_active_tokens_r 3750\n",
      "count_correct_r 3271\n",
      "recall: 0.8722666666666666\n",
      "F1: 0\n",
      "TRAINING FEAT ACCURACY: 0.9695167715489867\n"
     ]
    },
    {
     "name": "stderr",
     "output_type": "stream",
     "text": [
      "100%|██████████| 58/58 [00:23<00:00,  2.49it/s]\n"
     ]
    },
    {
     "name": "stdout",
     "output_type": "stream",
     "text": [
      "TRAINING POS ACCURACY: 0.986259453842157\n",
      "count_correct_p 3286\n",
      "count_active_tokens_p 3697\n",
      "precision: 0.8888287800919664\n",
      "count_active_tokens_r 3750\n",
      "count_correct_r 3286\n",
      "recall: 0.8762666666666666\n",
      "F1: 0\n",
      "TRAINING FEAT ACCURACY: 0.9706137059061255\n"
     ]
    },
    {
     "name": "stderr",
     "output_type": "stream",
     "text": [
      "100%|██████████| 58/58 [00:23<00:00,  2.48it/s]\n"
     ]
    },
    {
     "name": "stdout",
     "output_type": "stream",
     "text": [
      "TRAINING POS ACCURACY: 0.9892038565902661\n",
      "count_correct_p 3320\n",
      "count_active_tokens_p 3703\n",
      "precision: 0.8965703483661895\n",
      "count_active_tokens_r 3750\n",
      "count_correct_r 3320\n",
      "recall: 0.8853333333333333\n",
      "F1: 0\n",
      "TRAINING FEAT ACCURACY: 0.9731539749437099\n"
     ]
    },
    {
     "name": "stderr",
     "output_type": "stream",
     "text": [
      "100%|██████████| 58/58 [00:23<00:00,  2.48it/s]\n"
     ]
    },
    {
     "name": "stdout",
     "output_type": "stream",
     "text": [
      "TRAINING POS ACCURACY: 0.9882223890075631\n",
      "count_correct_p 3322\n",
      "count_active_tokens_p 3709\n",
      "precision: 0.8956592073335131\n",
      "count_active_tokens_r 3750\n",
      "count_correct_r 3322\n",
      "recall: 0.8858666666666667\n",
      "F1: 0\n",
      "TRAINING FEAT ACCURACY: 0.9734426418797991\n"
     ]
    },
    {
     "name": "stderr",
     "output_type": "stream",
     "text": [
      "100%|██████████| 58/58 [00:23<00:00,  2.47it/s]\n"
     ]
    },
    {
     "name": "stdout",
     "output_type": "stream",
     "text": [
      "TRAINING POS ACCURACY: 0.9879337220714739\n",
      "count_correct_p 3321\n",
      "count_active_tokens_p 3698\n",
      "precision: 0.8980530016224987\n",
      "count_active_tokens_r 3750\n",
      "count_correct_r 3321\n",
      "recall: 0.8856\n",
      "F1: 0\n",
      "TRAINING FEAT ACCURACY: 0.9732117083309277\n"
     ]
    },
    {
     "name": "stderr",
     "output_type": "stream",
     "text": [
      "100%|██████████| 58/58 [00:23<00:00,  2.48it/s]\n"
     ]
    },
    {
     "name": "stdout",
     "output_type": "stream",
     "text": [
      "TRAINING POS ACCURACY: 0.9885110559436522\n",
      "count_correct_p 3334\n",
      "count_active_tokens_p 3695\n",
      "precision: 0.9023004059539919\n",
      "count_active_tokens_r 3750\n",
      "count_correct_r 3334\n",
      "recall: 0.8890666666666667\n",
      "F1: 0\n",
      "TRAINING FEAT ACCURACY: 0.9738467755903238\n"
     ]
    },
    {
     "name": "stderr",
     "output_type": "stream",
     "text": [
      "100%|██████████| 58/58 [00:23<00:00,  2.48it/s]\n"
     ]
    },
    {
     "name": "stdout",
     "output_type": "stream",
     "text": [
      "TRAINING POS ACCURACY: 0.9886265227180878\n",
      "count_correct_p 3370\n",
      "count_active_tokens_p 3698\n",
      "precision: 0.9113034072471606\n",
      "count_active_tokens_r 3750\n",
      "count_correct_r 3370\n",
      "recall: 0.8986666666666666\n",
      "F1: 0\n",
      "TRAINING FEAT ACCURACY: 0.9759829109173835\n"
     ]
    },
    {
     "name": "stderr",
     "output_type": "stream",
     "text": [
      "100%|██████████| 58/58 [00:23<00:00,  2.48it/s]\n"
     ]
    },
    {
     "name": "stdout",
     "output_type": "stream",
     "text": [
      "TRAINING POS ACCURACY: 0.989954390624098\n",
      "count_correct_p 3377\n",
      "count_active_tokens_p 3706\n",
      "precision: 0.9112250404749056\n",
      "count_active_tokens_r 3750\n",
      "count_correct_r 3377\n",
      "recall: 0.9005333333333333\n",
      "F1: 0\n",
      "TRAINING FEAT ACCURACY: 0.9766757115639975\n"
     ]
    },
    {
     "name": "stderr",
     "output_type": "stream",
     "text": [
      "100%|██████████| 58/58 [00:23<00:00,  2.48it/s]\n"
     ]
    },
    {
     "name": "stdout",
     "output_type": "stream",
     "text": [
      "TRAINING POS ACCURACY: 0.9908781248195832\n",
      "count_correct_p 3410\n",
      "count_active_tokens_p 3712\n",
      "precision: 0.9186422413793104\n",
      "count_active_tokens_r 3750\n",
      "count_correct_r 3410\n",
      "recall: 0.9093333333333333\n",
      "F1: 0\n",
      "TRAINING FEAT ACCURACY: 0.9784654465677501\n"
     ]
    },
    {
     "name": "stderr",
     "output_type": "stream",
     "text": [
      "100%|██████████| 58/58 [00:23<00:00,  2.48it/s]\n"
     ]
    },
    {
     "name": "stdout",
     "output_type": "stream",
     "text": [
      "TRAINING POS ACCURACY: 0.9912245251428902\n",
      "count_correct_p 3403\n",
      "count_active_tokens_p 3697\n",
      "precision: 0.9204760616716257\n",
      "count_active_tokens_r 3750\n",
      "count_correct_r 3403\n",
      "recall: 0.9074666666666666\n",
      "F1: 0\n",
      "TRAINING FEAT ACCURACY: 0.9784077131805323\n"
     ]
    },
    {
     "name": "stderr",
     "output_type": "stream",
     "text": [
      "100%|██████████| 58/58 [00:23<00:00,  2.48it/s]\n"
     ]
    },
    {
     "name": "stdout",
     "output_type": "stream",
     "text": [
      "TRAINING POS ACCURACY: 0.990935858206801\n",
      "count_correct_p 3427\n",
      "count_active_tokens_p 3724\n",
      "precision: 0.9202470461868958\n",
      "count_active_tokens_r 3750\n",
      "count_correct_r 3427\n",
      "recall: 0.9138666666666667\n",
      "F1: 0\n",
      "TRAINING FEAT ACCURACY: 0.9793314473760175\n"
     ]
    },
    {
     "name": "stderr",
     "output_type": "stream",
     "text": [
      "100%|██████████| 58/58 [00:23<00:00,  2.48it/s]\n"
     ]
    },
    {
     "name": "stdout",
     "output_type": "stream",
     "text": [
      "TRAINING POS ACCURACY: 0.9907626580451475\n",
      "count_correct_p 3452\n",
      "count_active_tokens_p 3717\n",
      "precision: 0.9287059456550982\n",
      "count_active_tokens_r 3750\n",
      "count_correct_r 3452\n",
      "recall: 0.9205333333333333\n",
      "F1: 0\n",
      "TRAINING FEAT ACCURACY: 0.9816407828647307\n"
     ]
    },
    {
     "name": "stderr",
     "output_type": "stream",
     "text": [
      "100%|██████████| 58/58 [00:23<00:00,  2.49it/s]\n"
     ]
    },
    {
     "name": "stdout",
     "output_type": "stream",
     "text": [
      "TRAINING POS ACCURACY: 0.9907049246579297\n",
      "count_correct_p 3453\n",
      "count_active_tokens_p 3713\n",
      "precision: 0.9299757608402909\n",
      "count_active_tokens_r 3750\n",
      "count_correct_r 3453\n",
      "recall: 0.9208\n",
      "F1: 0\n",
      "TRAINING FEAT ACCURACY: 0.9816985162519485\n"
     ]
    },
    {
     "name": "stderr",
     "output_type": "stream",
     "text": [
      "100%|██████████| 58/58 [00:23<00:00,  2.48it/s]\n"
     ]
    },
    {
     "name": "stdout",
     "output_type": "stream",
     "text": [
      "TRAINING POS ACCURACY: 0.9910513249812366\n",
      "count_correct_p 3465\n",
      "count_active_tokens_p 3715\n",
      "precision: 0.9327052489905787\n",
      "count_active_tokens_r 3750\n",
      "count_correct_r 3465\n",
      "recall: 0.924\n",
      "F1: 0\n",
      "TRAINING FEAT ACCURACY: 0.9819871831880377\n"
     ]
    },
    {
     "name": "stderr",
     "output_type": "stream",
     "text": [
      "100%|██████████| 58/58 [00:23<00:00,  2.49it/s]\n"
     ]
    },
    {
     "name": "stdout",
     "output_type": "stream",
     "text": [
      "TRAINING POS ACCURACY: 0.9919173257895041\n",
      "count_correct_p 3478\n",
      "count_active_tokens_p 3710\n",
      "precision: 0.937466307277628\n",
      "count_active_tokens_r 3750\n",
      "count_correct_r 3478\n",
      "recall: 0.9274666666666667\n",
      "F1: 0\n",
      "TRAINING FEAT ACCURACY: 0.9830841175451763\n"
     ]
    },
    {
     "name": "stderr",
     "output_type": "stream",
     "text": [
      "100%|██████████| 58/58 [00:23<00:00,  2.48it/s]\n"
     ]
    },
    {
     "name": "stdout",
     "output_type": "stream",
     "text": [
      "TRAINING POS ACCURACY: 0.991282258530108\n",
      "count_correct_p 3470\n",
      "count_active_tokens_p 3701\n",
      "precision: 0.9375844366387462\n",
      "count_active_tokens_r 3750\n",
      "count_correct_r 3470\n",
      "recall: 0.9253333333333333\n",
      "F1: 0\n",
      "TRAINING FEAT ACCURACY: 0.9827377172218694\n"
     ]
    },
    {
     "name": "stderr",
     "output_type": "stream",
     "text": [
      "100%|██████████| 58/58 [00:23<00:00,  2.48it/s]\n"
     ]
    },
    {
     "name": "stdout",
     "output_type": "stream",
     "text": [
      "TRAINING POS ACCURACY: 0.9923214595000288\n",
      "count_correct_p 3490\n",
      "count_active_tokens_p 3721\n",
      "precision: 0.9379199140016125\n",
      "count_active_tokens_r 3750\n",
      "count_correct_r 3490\n",
      "recall: 0.9306666666666666\n",
      "F1: 0\n",
      "TRAINING FEAT ACCURACY: 0.9839501183534438\n"
     ]
    },
    {
     "name": "stderr",
     "output_type": "stream",
     "text": [
      "100%|██████████| 58/58 [00:23<00:00,  2.48it/s]\n"
     ]
    },
    {
     "name": "stdout",
     "output_type": "stream",
     "text": [
      "TRAINING POS ACCURACY: 0.9923214595000288\n",
      "count_correct_p 3499\n",
      "count_active_tokens_p 3722\n",
      "precision: 0.9400859752821064\n",
      "count_active_tokens_r 3750\n",
      "count_correct_r 3499\n",
      "recall: 0.9330666666666667\n",
      "F1: 0\n",
      "TRAINING FEAT ACCURACY: 0.9842965186767507\n"
     ]
    },
    {
     "name": "stderr",
     "output_type": "stream",
     "text": [
      "100%|██████████| 58/58 [00:23<00:00,  2.48it/s]\n"
     ]
    },
    {
     "name": "stdout",
     "output_type": "stream",
     "text": [
      "TRAINING POS ACCURACY: 0.9920905259511575\n",
      "count_correct_p 3533\n",
      "count_active_tokens_p 3727\n",
      "precision: 0.9479474107861551\n",
      "count_active_tokens_r 3750\n",
      "count_correct_r 3533\n",
      "recall: 0.9421333333333334\n",
      "F1: 0\n",
      "TRAINING FEAT ACCURACY: 0.9864326540038104\n"
     ]
    },
    {
     "name": "stderr",
     "output_type": "stream",
     "text": [
      "100%|██████████| 58/58 [00:23<00:00,  2.48it/s]\n"
     ]
    },
    {
     "name": "stdout",
     "output_type": "stream",
     "text": [
      "TRAINING POS ACCURACY: 0.9939957277293459\n",
      "count_correct_p 3532\n",
      "count_active_tokens_p 3729\n",
      "precision: 0.947170823277018\n",
      "count_active_tokens_r 3750\n",
      "count_correct_r 3532\n",
      "recall: 0.9418666666666666\n",
      "F1: 0\n",
      "TRAINING FEAT ACCURACY: 0.986548120778246\n"
     ]
    },
    {
     "name": "stderr",
     "output_type": "stream",
     "text": [
      "100%|██████████| 58/58 [00:23<00:00,  2.48it/s]\n"
     ]
    },
    {
     "name": "stdout",
     "output_type": "stream",
     "text": [
      "TRAINING POS ACCURACY: 0.9935338606316032\n",
      "count_correct_p 3528\n",
      "count_active_tokens_p 3726\n",
      "precision: 0.9468599033816425\n",
      "count_active_tokens_r 3750\n",
      "count_correct_r 3528\n",
      "recall: 0.9408\n",
      "F1: 0\n",
      "TRAINING FEAT ACCURACY: 0.9860862536805034\n"
     ]
    },
    {
     "name": "stderr",
     "output_type": "stream",
     "text": [
      "100%|██████████| 58/58 [00:23<00:00,  2.48it/s]\n"
     ]
    },
    {
     "name": "stdout",
     "output_type": "stream",
     "text": [
      "TRAINING POS ACCURACY: 0.9934761272443854\n",
      "count_correct_p 3548\n",
      "count_active_tokens_p 3728\n",
      "precision: 0.9517167381974249\n",
      "count_active_tokens_r 3750\n",
      "count_correct_r 3548\n",
      "recall: 0.9461333333333334\n",
      "F1: 0\n",
      "TRAINING FEAT ACCURACY: 0.9873563881992956\n"
     ]
    },
    {
     "name": "stderr",
     "output_type": "stream",
     "text": [
      "100%|██████████| 58/58 [00:23<00:00,  2.48it/s]\n"
     ]
    },
    {
     "name": "stdout",
     "output_type": "stream",
     "text": [
      "TRAINING POS ACCURACY: 0.9941111945037815\n",
      "count_correct_p 3552\n",
      "count_active_tokens_p 3730\n",
      "precision: 0.9522788203753351\n",
      "count_active_tokens_r 3750\n",
      "count_correct_r 3552\n",
      "recall: 0.9472\n",
      "F1: 0\n",
      "TRAINING FEAT ACCURACY: 0.9877605219098204\n"
     ]
    },
    {
     "name": "stderr",
     "output_type": "stream",
     "text": [
      "100%|██████████| 58/58 [00:23<00:00,  2.48it/s]\n"
     ]
    },
    {
     "name": "stdout",
     "output_type": "stream",
     "text": [
      "TRAINING POS ACCURACY: 0.9937070607932568\n",
      "count_correct_p 3559\n",
      "count_active_tokens_p 3732\n",
      "precision: 0.9536441586280815\n",
      "count_active_tokens_r 3750\n",
      "count_correct_r 3559\n",
      "recall: 0.9490666666666666\n",
      "F1: 0\n",
      "TRAINING FEAT ACCURACY: 0.9879337220714739\n"
     ]
    },
    {
     "name": "stderr",
     "output_type": "stream",
     "text": [
      "100%|██████████| 58/58 [00:23<00:00,  2.48it/s]\n"
     ]
    },
    {
     "name": "stdout",
     "output_type": "stream",
     "text": [
      "TRAINING POS ACCURACY: 0.9939957277293459\n",
      "count_correct_p 3561\n",
      "count_active_tokens_p 3721\n",
      "precision: 0.9570008062348832\n",
      "count_active_tokens_r 3750\n",
      "count_correct_r 3561\n",
      "recall: 0.9496\n",
      "F1: 0\n",
      "TRAINING FEAT ACCURACY: 0.9884533225564344\n"
     ]
    },
    {
     "name": "stderr",
     "output_type": "stream",
     "text": [
      "100%|██████████| 58/58 [00:23<00:00,  2.48it/s]\n"
     ]
    },
    {
     "name": "stdout",
     "output_type": "stream",
     "text": [
      "TRAINING POS ACCURACY: 0.9947462617631776\n",
      "count_correct_p 3567\n",
      "count_active_tokens_p 3729\n",
      "precision: 0.9565567176186646\n",
      "count_active_tokens_r 3750\n",
      "count_correct_r 3567\n",
      "recall: 0.9512\n",
      "F1: 0\n",
      "TRAINING FEAT ACCURACY: 0.9885110559436522\n"
     ]
    },
    {
     "name": "stderr",
     "output_type": "stream",
     "text": [
      "100%|██████████| 58/58 [00:23<00:00,  2.48it/s]\n"
     ]
    },
    {
     "name": "stdout",
     "output_type": "stream",
     "text": [
      "TRAINING POS ACCURACY: 0.9947462617631776\n",
      "count_correct_p 3565\n",
      "count_active_tokens_p 3728\n",
      "precision: 0.9562768240343348\n",
      "count_active_tokens_r 3750\n",
      "count_correct_r 3565\n",
      "recall: 0.9506666666666667\n",
      "F1: 0\n",
      "TRAINING FEAT ACCURACY: 0.9885110559436522\n"
     ]
    },
    {
     "name": "stderr",
     "output_type": "stream",
     "text": [
      "100%|██████████| 58/58 [00:23<00:00,  2.48it/s]\n"
     ]
    },
    {
     "name": "stdout",
     "output_type": "stream",
     "text": [
      "TRAINING POS ACCURACY: 0.9943998614398707\n",
      "count_correct_p 3587\n",
      "count_active_tokens_p 3736\n",
      "precision: 0.9601177730192719\n",
      "count_active_tokens_r 3750\n",
      "count_correct_r 3587\n",
      "recall: 0.9565333333333333\n",
      "F1: 0\n",
      "TRAINING FEAT ACCURACY: 0.9898389238496622\n"
     ]
    },
    {
     "name": "stderr",
     "output_type": "stream",
     "text": [
      "100%|██████████| 58/58 [00:23<00:00,  2.48it/s]\n"
     ]
    },
    {
     "name": "stdout",
     "output_type": "stream",
     "text": [
      "TRAINING POS ACCURACY: 0.9956122625714451\n",
      "count_correct_p 3581\n",
      "count_active_tokens_p 3732\n",
      "precision: 0.9595391211146839\n",
      "count_active_tokens_r 3750\n",
      "count_correct_r 3581\n",
      "recall: 0.9549333333333333\n",
      "F1: 0\n",
      "TRAINING FEAT ACCURACY: 0.9892615899774839\n"
     ]
    },
    {
     "name": "stderr",
     "output_type": "stream",
     "text": [
      "100%|██████████| 58/58 [00:23<00:00,  2.48it/s]\n"
     ]
    },
    {
     "name": "stdout",
     "output_type": "stream",
     "text": [
      "TRAINING POS ACCURACY: 0.9956699959586629\n",
      "count_correct_p 3588\n",
      "count_active_tokens_p 3731\n",
      "precision: 0.9616724738675958\n",
      "count_active_tokens_r 3750\n",
      "count_correct_r 3588\n",
      "recall: 0.9568\n",
      "F1: 0\n",
      "TRAINING FEAT ACCURACY: 0.9898966572368801\n"
     ]
    },
    {
     "name": "stderr",
     "output_type": "stream",
     "text": [
      "100%|██████████| 58/58 [00:23<00:00,  2.48it/s]\n"
     ]
    },
    {
     "name": "stdout",
     "output_type": "stream",
     "text": [
      "TRAINING POS ACCURACY: 0.9956122625714451\n",
      "count_correct_p 3593\n",
      "count_active_tokens_p 3729\n",
      "precision: 0.9635290962724591\n",
      "count_active_tokens_r 3750\n",
      "count_correct_r 3593\n",
      "recall: 0.9581333333333333\n",
      "F1: 0\n",
      "TRAINING FEAT ACCURACY: 0.990243057560187\n"
     ]
    },
    {
     "name": "stderr",
     "output_type": "stream",
     "text": [
      "100%|██████████| 58/58 [00:23<00:00,  2.48it/s]\n"
     ]
    },
    {
     "name": "stdout",
     "output_type": "stream",
     "text": [
      "TRAINING POS ACCURACY: 0.9955545291842273\n",
      "count_correct_p 3608\n",
      "count_active_tokens_p 3732\n",
      "precision: 0.9667738478027867\n",
      "count_active_tokens_r 3750\n",
      "count_correct_r 3608\n",
      "recall: 0.9621333333333333\n",
      "F1: 0\n",
      "TRAINING FEAT ACCURACY: 0.9913399919173258\n"
     ]
    },
    {
     "name": "stderr",
     "output_type": "stream",
     "text": [
      " 10%|█         | 6/58 [00:02<00:24,  2.12it/s]\n"
     ]
    },
    {
     "ename": "KeyboardInterrupt",
     "evalue": "",
     "output_type": "error",
     "traceback": [
      "\u001b[0;31m\u001b[0m",
      "\u001b[0;31mKeyboardInterrupt\u001b[0mTraceback (most recent call last)",
      "\u001b[0;32m<ipython-input-16-9fca8d114ac0>\u001b[0m in \u001b[0;36m<module>\u001b[0;34m\u001b[0m\n\u001b[1;32m      1\u001b[0m \u001b[0;32mfor\u001b[0m \u001b[0midx\u001b[0m \u001b[0;32min\u001b[0m \u001b[0mrange\u001b[0m\u001b[0;34m(\u001b[0m\u001b[0mEPOCHS\u001b[0m\u001b[0;34m)\u001b[0m\u001b[0;34m:\u001b[0m\u001b[0;34m\u001b[0m\u001b[0;34m\u001b[0m\u001b[0m\n\u001b[0;32m----> 2\u001b[0;31m     \u001b[0mtrain_loop_fn\u001b[0m\u001b[0;34m(\u001b[0m\u001b[0mtrain_loader\u001b[0m\u001b[0;34m,\u001b[0m \u001b[0mmodel\u001b[0m\u001b[0;34m,\u001b[0m \u001b[0moptimizer\u001b[0m\u001b[0;34m,\u001b[0m \u001b[0mDEVICE\u001b[0m\u001b[0;34m)\u001b[0m\u001b[0;34m\u001b[0m\u001b[0;34m\u001b[0m\u001b[0m\n\u001b[0m\u001b[1;32m      3\u001b[0m     \u001b[0;31m#valid_loop_fn(valid_loader, model, DEVICE)\u001b[0m\u001b[0;34m\u001b[0m\u001b[0;34m\u001b[0m\u001b[0;34m\u001b[0m\u001b[0m\n",
      "\u001b[0;32m<ipython-input-13-d17d60564b0b>\u001b[0m in \u001b[0;36mtrain_loop_fn\u001b[0;34m(train_loader, model, optimizer, DEVICE, scheduler)\u001b[0m\n\u001b[1;32m     32\u001b[0m \u001b[0;34m\u001b[0m\u001b[0m\n\u001b[1;32m     33\u001b[0m         \u001b[0mloss\u001b[0m \u001b[0;34m=\u001b[0m \u001b[0mp_loss\u001b[0m\u001b[0;34m+\u001b[0m\u001b[0mf_loss\u001b[0m\u001b[0;34m\u001b[0m\u001b[0;34m\u001b[0m\u001b[0m\n\u001b[0;32m---> 34\u001b[0;31m         \u001b[0mloss\u001b[0m\u001b[0;34m.\u001b[0m\u001b[0mbackward\u001b[0m\u001b[0;34m(\u001b[0m\u001b[0;34m)\u001b[0m\u001b[0;34m\u001b[0m\u001b[0;34m\u001b[0m\u001b[0m\n\u001b[0m\u001b[1;32m     35\u001b[0m         \u001b[0moptimizer\u001b[0m\u001b[0;34m.\u001b[0m\u001b[0mstep\u001b[0m\u001b[0;34m(\u001b[0m\u001b[0;34m)\u001b[0m\u001b[0;34m\u001b[0m\u001b[0;34m\u001b[0m\u001b[0m\n\u001b[1;32m     36\u001b[0m \u001b[0;34m\u001b[0m\u001b[0m\n",
      "\u001b[0;32m/usr/local/lib/python3.6/dist-packages/torch/tensor.py\u001b[0m in \u001b[0;36mbackward\u001b[0;34m(self, gradient, retain_graph, create_graph)\u001b[0m\n\u001b[1;32m    193\u001b[0m                 \u001b[0mproducts\u001b[0m\u001b[0;34m.\u001b[0m \u001b[0mDefaults\u001b[0m \u001b[0mto\u001b[0m\u001b[0;31m \u001b[0m\u001b[0;31m`\u001b[0m\u001b[0;31m`\u001b[0m\u001b[0;32mFalse\u001b[0m\u001b[0;31m`\u001b[0m\u001b[0;31m`\u001b[0m\u001b[0;34m.\u001b[0m\u001b[0;34m\u001b[0m\u001b[0;34m\u001b[0m\u001b[0m\n\u001b[1;32m    194\u001b[0m         \"\"\"\n\u001b[0;32m--> 195\u001b[0;31m         \u001b[0mtorch\u001b[0m\u001b[0;34m.\u001b[0m\u001b[0mautograd\u001b[0m\u001b[0;34m.\u001b[0m\u001b[0mbackward\u001b[0m\u001b[0;34m(\u001b[0m\u001b[0mself\u001b[0m\u001b[0;34m,\u001b[0m \u001b[0mgradient\u001b[0m\u001b[0;34m,\u001b[0m \u001b[0mretain_graph\u001b[0m\u001b[0;34m,\u001b[0m \u001b[0mcreate_graph\u001b[0m\u001b[0;34m)\u001b[0m\u001b[0;34m\u001b[0m\u001b[0;34m\u001b[0m\u001b[0m\n\u001b[0m\u001b[1;32m    196\u001b[0m \u001b[0;34m\u001b[0m\u001b[0m\n\u001b[1;32m    197\u001b[0m     \u001b[0;32mdef\u001b[0m \u001b[0mregister_hook\u001b[0m\u001b[0;34m(\u001b[0m\u001b[0mself\u001b[0m\u001b[0;34m,\u001b[0m \u001b[0mhook\u001b[0m\u001b[0;34m)\u001b[0m\u001b[0;34m:\u001b[0m\u001b[0;34m\u001b[0m\u001b[0;34m\u001b[0m\u001b[0m\n",
      "\u001b[0;32m/usr/local/lib/python3.6/dist-packages/torch/autograd/__init__.py\u001b[0m in \u001b[0;36mbackward\u001b[0;34m(tensors, grad_tensors, retain_graph, create_graph, grad_variables)\u001b[0m\n\u001b[1;32m     97\u001b[0m     Variable._execution_engine.run_backward(\n\u001b[1;32m     98\u001b[0m         \u001b[0mtensors\u001b[0m\u001b[0;34m,\u001b[0m \u001b[0mgrad_tensors\u001b[0m\u001b[0;34m,\u001b[0m \u001b[0mretain_graph\u001b[0m\u001b[0;34m,\u001b[0m \u001b[0mcreate_graph\u001b[0m\u001b[0;34m,\u001b[0m\u001b[0;34m\u001b[0m\u001b[0;34m\u001b[0m\u001b[0m\n\u001b[0;32m---> 99\u001b[0;31m         allow_unreachable=True)  # allow_unreachable flag\n\u001b[0m\u001b[1;32m    100\u001b[0m \u001b[0;34m\u001b[0m\u001b[0m\n\u001b[1;32m    101\u001b[0m \u001b[0;34m\u001b[0m\u001b[0m\n",
      "\u001b[0;31mKeyboardInterrupt\u001b[0m: "
     ]
    }
   ],
   "source": [
    "for idx in range(EPOCHS):\n",
    "    train_loop_fn(train_loader, model, optimizer, DEVICE)\n",
    "    #valid_loop_fn(valid_loader, model, DEVICE)"
   ]
  },
  {
   "cell_type": "code",
   "execution_count": 17,
   "metadata": {},
   "outputs": [
    {
     "name": "stderr",
     "output_type": "stream",
     "text": [
      "100%|██████████| 2256/2256 [03:25<00:00, 10.95it/s]\n"
     ]
    },
    {
     "name": "stdout",
     "output_type": "stream",
     "text": [
      "VALIDATION POS ACCURACY: 0.9617551272870771\n",
      "count_correct_p 69699\n",
      "count_active_tokens_p 106159\n",
      "precision: 0.6565529064893226\n",
      "count_active_tokens_r 107280\n",
      "count_correct_r 69699\n",
      "recall: 0.649692393736018\n",
      "F1: 0\n",
      "VALIDATION FEAT ACCURACY: 0.8903799213864015\n"
     ]
    }
   ],
   "source": [
    "valid_loop_fn(valid_loader, model, DEVICE)"
   ]
  },
  {
   "cell_type": "code",
   "execution_count": null,
   "metadata": {},
   "outputs": [],
   "source": []
  },
  {
   "cell_type": "code",
   "execution_count": null,
   "metadata": {},
   "outputs": [],
   "source": []
  },
  {
   "cell_type": "code",
   "execution_count": null,
   "metadata": {},
   "outputs": [],
   "source": []
  },
  {
   "cell_type": "code",
   "execution_count": null,
   "metadata": {},
   "outputs": [],
   "source": []
  }
 ],
 "metadata": {
  "kernelspec": {
   "display_name": "PyTorch 1.4 on Python 3.6 (CUDA 10.0)",
   "language": "python",
   "name": "python3"
  },
  "language_info": {
   "codemirror_mode": {
    "name": "ipython",
    "version": 3
   },
   "file_extension": ".py",
   "mimetype": "text/x-python",
   "name": "python",
   "nbconvert_exporter": "python",
   "pygments_lexer": "ipython3",
   "version": "3.6.9"
  }
 },
 "nbformat": 4,
 "nbformat_minor": 4
}
